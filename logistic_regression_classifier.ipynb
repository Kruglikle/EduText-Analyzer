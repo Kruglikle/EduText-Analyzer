{
  "nbformat": 4,
  "nbformat_minor": 0,
  "metadata": {
    "colab": {
      "provenance": [],
      "authorship_tag": "ABX9TyPS8uBn1JLwKhuk0uyqTEjT",
      "include_colab_link": true
    },
    "kernelspec": {
      "name": "python3",
      "display_name": "Python 3"
    },
    "language_info": {
      "name": "python"
    }
  },
  "cells": [
    {
      "cell_type": "markdown",
      "metadata": {
        "id": "view-in-github",
        "colab_type": "text"
      },
      "source": [
        "<a href=\"https://colab.research.google.com/github/Kruglikle/EduText-Analyzer/blob/main/logistic_regression_classifier.ipynb\" target=\"_parent\"><img src=\"https://colab.research.google.com/assets/colab-badge.svg\" alt=\"Open In Colab\"/></a>"
      ]
    },
    {
      "cell_type": "markdown",
      "source": [
        "**Очистка txt и преобразование в csv**\n",
        "\n"
      ],
      "metadata": {
        "id": "9RJz4MFNxprY"
      }
    },
    {
      "cell_type": "markdown",
      "source": [
        "Очистка CSV:\n",
        "\n",
        "1.   Удаляем мусорные 2–3-буквенные последовательности, неинформативные для анализа.\n",
        "2.   С помощью регулярных выражений и spaCy оставляем только осмысленные токены и предложения с ≥3 словами.\n",
        "\n"
      ],
      "metadata": {
        "id": "IeRj2dPsLuwc"
      }
    },
    {
      "cell_type": "code",
      "source": [
        "import re\n",
        "import pandas as pd\n",
        "import spacy\n",
        "\n",
        "nlp = spacy.blank(\"ru\")\n",
        "\n",
        "# паттерн для удаления мусорных последовательностей\n",
        "# тут мы ищем «слова» из 2-3 букв, состоящие из а-я, которые часто повторяются и явно мусор\n",
        "garbage_pattern = re.compile(r'\\b([а-я]{2,3})\\b')\n",
        "\n",
        "def clean_sentence(text):\n",
        "    text = text.lower()\n",
        "    # удаляем мусорные 2-3 буквенные последовательности\n",
        "    text = garbage_pattern.sub('', text)\n",
        "    # оставляем только буквы и пробелы\n",
        "    text = re.sub(r'[^а-яa-z\\s]', ' ', text)\n",
        "    text = re.sub(r'\\s+', ' ', text)\n",
        "    return text.strip()\n",
        "\n",
        "#деление на чанки, ≥3 слов\n",
        "def filter_exercises(chunks, min_words=3):\n",
        "    exercises = []\n",
        "    for chunk in chunks:\n",
        "        cleaned = clean_sentence(chunk)\n",
        "        doc = nlp(cleaned)\n",
        "        tokens = [t.text for t in doc if t.is_alpha]\n",
        "        if len(tokens) >= min_words:\n",
        "            exercises.append(' '.join(tokens))\n",
        "    return exercises\n",
        "\n",
        "def preprocess_file_to_csv(file_path, csv_path):\n",
        "    with open(file_path, 'r', encoding='utf-8') as f:\n",
        "        raw_text = f.read()\n",
        "\n",
        "    chunks = [s.strip() for s in re.split(r'[.!?]+', raw_text) if s.strip()]\n",
        "    exercises = filter_exercises(chunks)\n",
        "\n",
        "    df = pd.DataFrame({'text': exercises})\n",
        "    df['label'] = ''\n",
        "\n",
        "    df.to_csv(csv_path, index=False, encoding='utf-8')\n",
        "    return df\n",
        "\n",
        "#input, output\n",
        "file_path = 'enjoy-2.txt'\n",
        "csv_path = 'enjoy2-2cleaned.csv'\n",
        "\n",
        "df = preprocess_file_to_csv(file_path, csv_path)\n",
        "print(f'Сохранили {len(df)} упражнений в {csv_path}')\n",
        "print(df.head())\n"
      ],
      "metadata": {
        "id": "GITkdV4Uxpdn",
        "colab": {
          "base_uri": "https://localhost:8080/"
        },
        "outputId": "cbe09510-f5a2-4b5e-d227-8f712894cb1c"
      },
      "execution_count": 1,
      "outputs": [
        {
          "output_type": "stream",
          "name": "stdout",
          "text": [
            "Сохранили 801 упражнений в enjoy2-2cleaned.csv\n",
            "                                                text label\n",
            "0  биболетова английский язык enjoy english li st...      \n",
            "1  a денисенко h h трубанева российский учебник e...      \n",
            "2  progress check lesson project unit let s read ...      \n",
            "3                              progress check lesson      \n",
            "4                                    meet my friends      \n"
          ]
        }
      ]
    },
    {
      "cell_type": "markdown",
      "source": [
        "Продолжение предобработки: убираем английские слова, так как нас интересуют только установки к упражнениям на рус. языке\n",
        "\n",
        "Влияние OCR-артефактов минимизируется, и текст готов для корректной автоматической классификации (ура!). После предобработки каждая строка – это упражнение (или часть упражнения)."
      ],
      "metadata": {
        "id": "1HSNRq9WDBUk"
      }
    },
    {
      "cell_type": "code",
      "execution_count": 2,
      "metadata": {
        "id": "bm_ah68ymCAq",
        "colab": {
          "base_uri": "https://localhost:8080/"
        },
        "outputId": "84c2d271-1a3e-400f-98ed-abf66487c2a6"
      },
      "outputs": [
        {
          "output_type": "stream",
          "name": "stdout",
          "text": [
            "Исходных строк: 801, после очистки: 186\n"
          ]
        }
      ],
      "source": [
        "import pandas as pd\n",
        "import re\n",
        "\n",
        "# Чтение CSV\n",
        "input_file = '/content/enjoy2-2cleaned.csv'\n",
        "df = pd.read_csv(input_file)\n",
        "\n",
        "# Функция проверки наличия английских слов\n",
        "def has_english(text):\n",
        "    if pd.isna(text):\n",
        "        return False\n",
        "    # Проверяем наличие латинских букв\n",
        "    return bool(re.search(r'[a-zA-Z]', text))\n",
        "\n",
        "# Фильтруем строки без английских слов\n",
        "df_clean = df[~df['text'].apply(has_english)].copy()\n",
        "\n",
        "# Сохраняем очищенный CSV\n",
        "output_file = '/content/enjoy2_clean.csv'\n",
        "df_clean.to_csv(output_file, index=False, encoding='utf-8-sig')\n",
        "\n",
        "print(f\"Исходных строк: {len(df)}, после очистки: {len(df_clean)}\")\n"
      ]
    },
    {
      "cell_type": "markdown",
      "source": [
        "**Обучение модели**"
      ],
      "metadata": {
        "id": "yFuN1iO3ylMm"
      }
    },
    {
      "cell_type": "code",
      "source": [
        "print(y.value_counts())\n",
        "print(\"NaN:\", y.isna().sum())\n"
      ],
      "metadata": {
        "colab": {
          "base_uri": "https://localhost:8080/"
        },
        "id": "6HKvXlPgDvks",
        "outputId": "ebe4a9cb-832f-4fb2-ffa2-9a2fa0671863"
      },
      "execution_count": 5,
      "outputs": [
        {
          "output_type": "stream",
          "name": "stdout",
          "text": [
            "label\n",
            "яз                    134\n",
            "ком                    81\n",
            "языковое               29\n",
            "коммуникативное         5\n",
            "-                       3\n",
            "--                      1\n",
            "язык                    1\n",
            "это внутри задания      1\n",
            "Name: count, dtype: int64\n",
            "NaN: 51\n"
          ]
        }
      ]
    },
    {
      "cell_type": "code",
      "source": [
        "import pandas as pd\n",
        "from sklearn.model_selection import train_test_split\n",
        "from sklearn.feature_extraction.text import TfidfVectorizer\n",
        "from sklearn.linear_model import LogisticRegression\n",
        "from sklearn.metrics import classification_report, accuracy_score\n",
        "\n",
        "# Загружаем датасет\n",
        "df = pd.read_excel(\"test-train.xlsx\")  # столбец text = text, метка = label / перезвать в test-train\n",
        "X = df[\"text\"]\n",
        "y = df[\"label\"]\n",
        "\n",
        "# Стратифицированный split (80% train, 20% test)\n",
        "X_train, X_test, y_train, y_test = train_test_split(\n",
        "    X, y, test_size=0.2, random_state=42, stratify=y\n",
        ")\n",
        "\n",
        "# TF-IDF векторизация\n",
        "vectorizer = TfidfVectorizer(ngram_range=(1,2))  # униграммы + биграммы\n",
        "X_train_tfidf = vectorizer.fit_transform(X_train)\n",
        "X_test_tfidf = vectorizer.transform(X_test)\n",
        "\n",
        "# Логистическая регрессия\n",
        "clf = LogisticRegression(max_iter=1000, random_state=42)\n",
        "clf.fit(X_train_tfidf, y_train)\n",
        "\n",
        "# Предсказания и метрики\n",
        "y_pred = clf.predict(X_test_tfidf)\n",
        "print(\"Accuracy:\", accuracy_score(y_test, y_pred))\n",
        "print(\"\\nClassification Report:\\n\", classification_report(y_test, y_pred))\n"
      ],
      "metadata": {
        "id": "OfYJnUcaynAY",
        "colab": {
          "base_uri": "https://localhost:8080/"
        },
        "outputId": "22f07fdd-ca94-4968-9504-5c2a5e306228"
      },
      "execution_count": 6,
      "outputs": [
        {
          "output_type": "stream",
          "name": "stdout",
          "text": [
            "Accuracy: 0.8524590163934426\n",
            "\n",
            "Classification Report:\n",
            "                  precision    recall  f1-score   support\n",
            "\n",
            "коммуникативное       0.94      0.68      0.79        25\n",
            "       языковое       0.81      0.97      0.89        36\n",
            "\n",
            "       accuracy                           0.85        61\n",
            "      macro avg       0.88      0.83      0.84        61\n",
            "   weighted avg       0.87      0.85      0.85        61\n",
            "\n"
          ]
        }
      ]
    },
    {
      "cell_type": "markdown",
      "source": [
        "**Сохраняем модель на комп + в среду colab**"
      ],
      "metadata": {
        "id": "Ne3IUuGNyvnI"
      }
    },
    {
      "cell_type": "code",
      "source": [
        "import joblib\n",
        "\n",
        "# Сохраняем TF-IDF векторизатор\n",
        "joblib.dump(vectorizer, \"tfidf_vectorizer.pkl\")\n",
        "\n",
        "# Сохраняем модель логистической регрессии\n",
        "joblib.dump(clf, \"logreg_model.pkl\")\n",
        "\n",
        "from google.colab import files\n",
        "files.download(\"logreg_model.pkl\")\n"
      ],
      "metadata": {
        "id": "i8xUAaW2yr_0",
        "colab": {
          "base_uri": "https://localhost:8080/",
          "height": 17
        },
        "outputId": "73659a25-02c4-4717-be6e-b41d1f223cbf"
      },
      "execution_count": 7,
      "outputs": [
        {
          "output_type": "display_data",
          "data": {
            "text/plain": [
              "<IPython.core.display.Javascript object>"
            ],
            "application/javascript": [
              "\n",
              "    async function download(id, filename, size) {\n",
              "      if (!google.colab.kernel.accessAllowed) {\n",
              "        return;\n",
              "      }\n",
              "      const div = document.createElement('div');\n",
              "      const label = document.createElement('label');\n",
              "      label.textContent = `Downloading \"${filename}\": `;\n",
              "      div.appendChild(label);\n",
              "      const progress = document.createElement('progress');\n",
              "      progress.max = size;\n",
              "      div.appendChild(progress);\n",
              "      document.body.appendChild(div);\n",
              "\n",
              "      const buffers = [];\n",
              "      let downloaded = 0;\n",
              "\n",
              "      const channel = await google.colab.kernel.comms.open(id);\n",
              "      // Send a message to notify the kernel that we're ready.\n",
              "      channel.send({})\n",
              "\n",
              "      for await (const message of channel.messages) {\n",
              "        // Send a message to notify the kernel that we're ready.\n",
              "        channel.send({})\n",
              "        if (message.buffers) {\n",
              "          for (const buffer of message.buffers) {\n",
              "            buffers.push(buffer);\n",
              "            downloaded += buffer.byteLength;\n",
              "            progress.value = downloaded;\n",
              "          }\n",
              "        }\n",
              "      }\n",
              "      const blob = new Blob(buffers, {type: 'application/binary'});\n",
              "      const a = document.createElement('a');\n",
              "      a.href = window.URL.createObjectURL(blob);\n",
              "      a.download = filename;\n",
              "      div.appendChild(a);\n",
              "      a.click();\n",
              "      div.remove();\n",
              "    }\n",
              "  "
            ]
          },
          "metadata": {}
        },
        {
          "output_type": "display_data",
          "data": {
            "text/plain": [
              "<IPython.core.display.Javascript object>"
            ],
            "application/javascript": [
              "download(\"download_3af5ebbf-1f3f-453d-9dc2-2eef35a04187\", \"logreg_model.pkl\", 16655)"
            ]
          },
          "metadata": {}
        }
      ]
    },
    {
      "cell_type": "markdown",
      "source": [
        "**Подгружаем модель**"
      ],
      "metadata": {
        "id": "8aG_fYeDyTfR"
      }
    },
    {
      "cell_type": "code",
      "source": [
        "import pandas as pd\n",
        "import joblib\n",
        "import re\n",
        "\n",
        "# Загружаем модель и TF-IDF\n",
        "clf = joblib.load(\"logreg_model.pkl\")\n",
        "vectorizer = joblib.load(\"tfidf_vectorizer.pkl\")\n",
        "\n",
        "# Функция препроцессинга (совпадает с обучением)\n",
        "def merge_split_words(text):\n",
        "    return re.sub(r'(\\w+)-\\s+(\\w+)', r'\\1\\2', text)\n",
        "\n",
        "def clean_text(text):\n",
        "    text = re.sub(r'\\s+', ' ', text)\n",
        "    text = re.sub(r'[^\\w\\s]', '', text)\n",
        "    return text.strip()\n",
        "\n",
        "def preprocess_russian(text):\n",
        "    text = text.lower()\n",
        "    text = merge_split_words(text)\n",
        "    text = clean_text(text)\n",
        "    return text\n",
        "\n",
        "# Чтение CSV с подготовленным текстом\n",
        "df = pd.read_csv(\"test-enjoy-2-standard.csv\")  # колонка \"exercise\"\n",
        "exercises_clean = df[\"text\"].apply(preprocess_russian)\n",
        "\n",
        "# Векторизация и предсказание\n",
        "X_tfidf = vectorizer.transform(exercises_clean)\n",
        "preds = clf.predict(X_tfidf)\n",
        "\n",
        "# Сохраняем результат\n",
        "df[\"label\"] = preds\n",
        "df.to_csv(\"pred.csv\", index=False, encoding='utf-8-sig')\n",
        "print(\"Результат сохранён\")\n"
      ],
      "metadata": {
        "id": "rWO228TXyZWe",
        "colab": {
          "base_uri": "https://localhost:8080/"
        },
        "outputId": "54f826c9-4e19-4542-fc5a-e4282febad98"
      },
      "execution_count": 9,
      "outputs": [
        {
          "output_type": "stream",
          "name": "stdout",
          "text": [
            "Результат сохранён\n"
          ]
        }
      ]
    },
    {
      "cell_type": "markdown",
      "source": [
        "**Метрики точности**\n",
        "\n",
        "1.  Precision (точность) показывает долю правильно классифицированных примеров среди всех предсказанных принадлежащих данному классу.\n",
        "2.  Recall (полнота) отражает долю правильно классифицированных примеров класса относительно общего числа объектов данного класса.\n",
        "3.  F1-score — среднее гармоническое точности и полноты, используется для оценки качества модели.\n",
        "4.  Support обозначает число наблюдений (примеров) каждого класса в тестовом наборе.\n"
      ],
      "metadata": {
        "id": "81Nu03xTy6ZQ"
      }
    },
    {
      "cell_type": "code",
      "source": [
        "import pandas as pd\n",
        "from sklearn.metrics import confusion_matrix, classification_report\n",
        "import seaborn as sns\n",
        "import matplotlib.pyplot as plt\n",
        "\n",
        "# Загружаем файлы\n",
        "gold = pd.read_csv(\"gold.csv\")   # должно быть: text, label\n",
        "pred = pd.read_csv(\"pred.csv\")   # должно быть: text, label или label_pred\n",
        "\n",
        "# убираем лишние пробелы в названиях колонок\n",
        "gold.columns = gold.columns.str.strip()\n",
        "pred.columns = pred.columns.str.strip()\n",
        "\n",
        "# --- Обработка названий колонок ---\n",
        "# у gold должна быть колонка label → label_true\n",
        "if \"label\" in gold.columns:\n",
        "    gold = gold.rename(columns={\"label\": \"label_true\"})\n",
        "\n",
        "# у pred может быть label или label_pred\n",
        "if \"label\" in pred.columns:\n",
        "    pred = pred.rename(columns={\"label\": \"label_pred\"})\n",
        "\n",
        "# объединяем по text\n",
        "df = pd.merge(gold, pred, on=\"text\")\n",
        "\n",
        "# Матрица ошибок\n",
        "cm = confusion_matrix(df[\"label_true\"], df[\"label_pred\"],\n",
        "                      labels=[\"языковое\", \"коммуникативное\"])\n",
        "\n",
        "# Визуализация\n",
        "sns.heatmap(cm, annot=True, fmt=\"d\", cmap=\"Blues\",\n",
        "            xticklabels=[\"языковое\", \"коммуникативное\"],\n",
        "            yticklabels=[\"языковое\", \"коммуникативное\"])\n",
        "plt.xlabel(\"Предсказано\")\n",
        "plt.ylabel(\"Истина\")\n",
        "plt.show()\n",
        "\n",
        "# Отчёт\n",
        "print(classification_report(df[\"label_true\"], df[\"label_pred\"], digits=3))\n"
      ],
      "metadata": {
        "id": "-S6HwNmcy7cA",
        "colab": {
          "base_uri": "https://localhost:8080/",
          "height": 605
        },
        "outputId": "2a2a58cb-6b3e-45e3-e5d5-204581be4994"
      },
      "execution_count": 14,
      "outputs": [
        {
          "output_type": "display_data",
          "data": {
            "text/plain": [
              "<Figure size 640x480 with 2 Axes>"
            ],
            "image/png": "[encoded data removed]"
          },
          "metadata": {}
        },
        {
          "output_type": "stream",
          "name": "stdout",
          "text": [
            "                 precision    recall  f1-score   support\n",
            "\n",
            "коммуникативное      0.929     0.852     0.889        61\n",
            "       языковое      0.812     0.907     0.857        43\n",
            "\n",
            "       accuracy                          0.875       104\n",
            "      macro avg      0.871     0.880     0.873       104\n",
            "   weighted avg      0.881     0.875     0.876       104\n",
            "\n"
          ]
        }
      ]
    },
    {
      "cell_type": "code",
      "source": [
        "print(\"Размер gold:\", gold.shape)\n",
        "print(\"Размер pred:\", pred.shape)\n",
        "print(\"Размер объединения:\", df.shape)\n",
        "print(df.head(10))\n",
        "print(df.isna().sum())\n"
      ],
      "metadata": {
        "id": "F6rjpY_sb7zZ",
        "outputId": "ef33a108-45d6-4bef-ece0-ad997e7abe18",
        "colab": {
          "base_uri": "https://localhost:8080/"
        }
      },
      "execution_count": 15,
      "outputs": [
        {
          "output_type": "stream",
          "name": "stdout",
          "text": [
            "Размер gold: (90, 2)\n",
            "Размер pred: (90, 2)\n",
            "Размер объединения: (104, 3)\n",
            "                                                text       label_true  \\\n",
            "0  послушай и найди на картинке артистов, которые...  коммуникативное   \n",
            "1       послушай и повтори, как знакомятся с артисты         языковое   \n",
            "2                        разыграйте с одноклассником  коммуникативное   \n",
            "3              послушай и повтори названия профессий         языковое   \n",
            "4  назови и сосчитай артистов, которые пришли на ...  коммуникативное   \n",
            "5                              объяви выход артистов  коммуникативное   \n",
            "6  догадайся, какие цифры спрятались назови прави...  коммуникативное   \n",
            "7  послушай и повтори вопросы тома, на которые от...         языковое   \n",
            "8   скажи, кто ты, как тебя зовут и сколько тебе лет  коммуникативное   \n",
            "9   скажи, кто ты, как тебя зовут и сколько тебе лет  коммуникативное   \n",
            "\n",
            "        label_pred  \n",
            "0         языковое  \n",
            "1         языковое  \n",
            "2  коммуникативное  \n",
            "3         языковое  \n",
            "4  коммуникативное  \n",
            "5         языковое  \n",
            "6  коммуникативное  \n",
            "7         языковое  \n",
            "8  коммуникативное  \n",
            "9  коммуникативное  \n",
            "text          0\n",
            "label_true    0\n",
            "label_pred    0\n",
            "dtype: int64\n"
          ]
        }
      ]
    },
    {
      "cell_type": "markdown",
      "source": [
        "**Confusion matrices** нормализованы, то есть каждая строка суммируется до 1. Значения показывают долю правильных/неправильных предсказаний относительно реального класса (label_gold).\n",
        "\n",
        "*   Почему unclassified = 0 везде:\n",
        "В label_gold нет упражнений с меткой unclassified, поэтому строки и столбцы для unclassified заполнены нулями.\n",
        "\n",
        "Даже если Rule выдаёт unclassified, в нормализованной матрице это будет отображаться в столбце, но строка для unclassified = 0, потому что нет ни одного gold примера с этой меткой.\n",
        "*   Интерпретация чисел:\n",
        "Слева: ML vs Gold\n",
        "\n",
        "0.84 в левом верхнем углу = 84% упражнений, которые в gold коммуникативное, ML правильно классифицировала как коммуникативное.\n",
        "\n",
        "0.16 = 16% этих упражнений ML ошиблась, присвоив им языковое.\n",
        "\n",
        "Справа: Rule vs Gold\n",
        "\n",
        "0.76 = 76% gold коммуникативное классифицировано Rule как коммуникативное.\n",
        "\n",
        "0.17 = 17% gold коммуникативное Rule отправила в unclassified."
      ],
      "metadata": {
        "id": "Vf4c4SqrIGAk"
      }
    },
    {
      "cell_type": "code",
      "source": [
        "import pandas as pd\n",
        "from sklearn.metrics import classification_report, confusion_matrix\n",
        "import seaborn as sns\n",
        "import matplotlib.pyplot as plt\n",
        "\n",
        "# 1. Загрузка файлов\n",
        "gold = pd.read_csv(\"gold.csv\")\n",
        "ml = pd.read_csv(\"ml.csv\")\n",
        "rule = pd.read_csv(\"rule.csv\")\n",
        "\n",
        "# Убираем пробелы в колонках\n",
        "for df_ in [gold, ml, rule]:\n",
        "    df_.columns = df_.columns.str.strip()\n",
        "\n",
        "# Переименовываем для удобства\n",
        "gold = gold.rename(columns={\"label\": \"label_gold\"})\n",
        "ml = ml.rename(columns={\"label\": \"label_ml\"})\n",
        "rule = rule.rename(columns={\"label\": \"label_rule\"})\n",
        "\n",
        "#2. Удаляем дубликаты\n",
        "gold = gold.drop_duplicates(subset=\"text\")\n",
        "ml = ml.drop_duplicates(subset=\"text\")\n",
        "rule = rule.drop_duplicates(subset=\"text\")\n",
        "\n",
        "#3. Объединяем\n",
        "df = gold.merge(ml, on=\"text\").merge(rule, on=\"text\")\n",
        "print(\"Строк после merge:\", len(df))\n",
        "\n",
        "#4. Нормализация меток\n",
        "normalize_map = {\n",
        "    \"коммуникативные\": \"коммуникативное\",\n",
        "    \"языковые\": \"языковое\",\n",
        "    \"unclassified\": \"unclassified\"\n",
        "}\n",
        "for col in [\"label_gold\", \"label_ml\", \"label_rule\"]:\n",
        "    df[col] = df[col].replace(normalize_map).fillna(\"unclassified\").astype(str)\n",
        "\n",
        "classes_all = [\"коммуникативное\", \"языковое\", \"unclassified\"]\n",
        "\n",
        "#5. Метрики\n",
        "report_ml = classification_report(df['label_gold'], df['label_ml'],\n",
        "                                  labels=classes_all, target_names=classes_all, zero_division=0, output_dict=True)\n",
        "report_rule = classification_report(df['label_gold'], df['label_rule'],\n",
        "                                    labels=classes_all, target_names=classes_all, zero_division=0, output_dict=True)\n",
        "\n",
        "# Сохраняем отчёты в CSV\n",
        "pd.DataFrame(report_ml).transpose().to_csv(\"classification_report_ml.csv\")\n",
        "pd.DataFrame(report_rule).transpose().to_csv(\"classification_report_rule.csv\")\n",
        "\n",
        "#6. Confusion Matrix\n",
        "cm_ml = confusion_matrix(df['label_gold'], df['label_ml'], labels=classes_all, normalize=\"true\")\n",
        "cm_rule = confusion_matrix(df['label_gold'], df['label_rule'], labels=classes_all, normalize=\"true\")\n",
        "\n",
        "# visual aid и сохранение\n",
        "fig, axes = plt.subplots(1, 2, figsize=(12, 5))\n",
        "sns.heatmap(cm_ml, annot=True, cmap=\"YlGnBu\", fmt=\".2f\",\n",
        "            xticklabels=classes_all, yticklabels=classes_all, ax=axes[0], square=True)\n",
        "axes[0].set_title(\"ML vs Gold\", fontsize=14)\n",
        "sns.heatmap(cm_rule, annot=True, cmap=\"YlGnBu\", fmt=\".2f\",\n",
        "            xticklabels=classes_all, yticklabels=classes_all, ax=axes[1], square=True)\n",
        "axes[1].set_title(\"Rule vs Gold\", fontsize=14)\n",
        "plt.tight_layout()\n",
        "plt.savefig(\"confusion_matrices.png\")\n",
        "plt.show()\n",
        "\n",
        "#7. Правильные/ошибочные\n",
        "df[\"ml_correct\"] = df[\"label_gold\"] == df[\"label_ml\"]\n",
        "df[\"rule_correct\"] = (df[\"label_gold\"] == df[\"label_rule\"]) & (df[\"label_rule\"] != \"unclassified\")\n",
        "\n",
        "ml_correct = df[\"ml_correct\"].sum()\n",
        "ml_wrong = len(df) - ml_correct\n",
        "rule_correct = df[\"rule_correct\"].sum()\n",
        "rule_wrong = len(df) - rule_correct\n",
        "\n",
        "# Сохраняем сводку в CSV\n",
        "summary_df = pd.DataFrame({\n",
        "    \"Method\": [\"ML\", \"Rule-based\"],\n",
        "    \"Correct\": [ml_correct, rule_correct],\n",
        "    \"Wrong\": [ml_wrong, rule_wrong],\n",
        "    \"Accuracy (%)\": [ml_correct/len(df)*100, rule_correct/len(df)*100]\n",
        "})\n",
        "summary_df.to_csv(\"accuracy_summary.csv\", index=False)\n",
        "\n",
        "# 8. Примеры ошибок\n",
        "errors_df = df.loc[~df[\"ml_correct\"] | ~df[\"rule_correct\"],\n",
        "                   [\"text\", \"label_gold\", \"label_ml\", \"label_rule\", \"ml_correct\", \"rule_correct\"]]\n",
        "errors_df.to_csv(\"errors_examples.csv\", index=False)\n",
        "\n",
        "#9. Диаграмма ML vs Rule-based\n",
        "plt.figure(figsize=(7,5))\n",
        "plt.bar(summary_df[\"Method\"], summary_df[\"Correct\"], label=\"Правильно\", color=\"#4CAF50\")\n",
        "plt.bar(summary_df[\"Method\"], summary_df[\"Wrong\"], bottom=summary_df[\"Correct\"], label=\"Ошибки\", color=\"#F44336\")\n",
        "plt.title(\"Сравнение ML и Rule-based: правильные vs ошибки\")\n",
        "plt.ylabel(\"Количество упражнений\")\n",
        "plt.legend()\n",
        "plt.savefig(\"ml_vs_rule_bar.png\")\n",
        "plt.show()\n",
        "\n",
        "#10. Ошибки Rule, разбор ML\n",
        "rule_errors = df[~df[\"rule_correct\"]].copy()\n",
        "rule_errors[\"ML_status\"] = rule_errors[\"ml_correct\"].map({True: \"ML правильно\", False: \"ML ошиблась\"})\n",
        "rule_errors.to_csv(\"rule_errors_ml_status.csv\", index=False)\n",
        "\n",
        "# Круговая диаграмма\n",
        "rule_errors[\"ML_status\"].value_counts().plot.pie(\n",
        "    autopct='%1.1f%%', colors=[\"#4CAF50\", \"#F44336\"], startangle=90, explode=(0.05,0.05)\n",
        ")\n",
        "plt.title(\"Ошибки Rule-based: ML правильно vs ML ошиблась\")\n",
        "plt.ylabel(\"\")\n",
        "plt.savefig(\"rule_errors_pie.png\")\n",
        "plt.show()\n"
      ],
      "metadata": {
        "colab": {
          "base_uri": "https://localhost:8080/",
          "height": 1000
        },
        "id": "e6G11AJlEKUc",
        "outputId": "50c7d8cd-efd4-45ad-e5a0-fa6612c49ddf"
      },
      "execution_count": 16,
      "outputs": [
        {
          "output_type": "stream",
          "name": "stdout",
          "text": [
            "Строк после merge: 86\n"
          ]
        },
        {
          "output_type": "display_data",
          "data": {
            "text/plain": [
              "<Figure size 1200x500 with 4 Axes>"
            ],
            "image/png": "[encoded data removed]"
          },
          "metadata": {}
        },
        {
          "output_type": "display_data",
          "data": {
            "text/plain": [
              "<Figure size 700x500 with 1 Axes>"
            ],
            "image/png": "[encoded data removed]"
          },
          "metadata": {}
        },
        {
          "output_type": "display_data",
          "data": {
            "text/plain": [
              "<Figure size 640x480 with 1 Axes>"
            ],
            "image/png": "[encoded data removed]"
          },
          "metadata": {}
        }
      ]
    },
    {
      "cell_type": "markdown",
      "source": [
        "**1.  Количество строк после merge**\n",
        "\n",
        "86 строк → значит, после удаления дубликатов получилось меньше 90 (некоторые тексты были полностью одинаковы во всех трёх таблицах, убрали повторки с drop_duplicates).\n",
        "\n",
        "**2.  ML vs Rule-based**\n",
        "Метод\tПравильно\tОшибки\tAccuracy\n",
        "ML\t73\t13\t0.85\n",
        "Rule\t56\t30\t0.65\n",
        "\n",
        "ML лучше: точность и recall выше.\n",
        "\n",
        "Rule-based часто не справляется, особенно там, где gold = языковое → часто выдает unclassified."
      ],
      "metadata": {
        "id": "w7OBPydLEwYI"
      }
    },
    {
      "cell_type": "markdown",
      "source": [
        "**У rule-based 30 ошибок, как повела себя ml модель при решении этих же задач?**\n",
        "\n",
        "19 она классифицировала правильно, в отличие от rule-based, но на 11 тоже ошиблась."
      ],
      "metadata": {
        "id": "s0yCVFvoF2Yo"
      }
    },
    {
      "cell_type": "markdown",
      "source": [
        "**Интерпретация таблиц:**\n",
        "\n",
        "**ML vs Gold (машинное обучение)**\n",
        "Точность для коммуникативных ошибок: 0.93\n",
        "Полнота для коммуникативных ошибок: 0.86\n",
        "F1-Score для коммуникативных ошибок: 0.89\n",
        "Для языковых ошибок точность составляет 0.91, полнота — 0.96, F1-Score — 0.93.\n",
        "Общее качество (accuracy) модели составляет 0.92, что довольно хорошо.\n",
        "\n",
        "**Rule-Based vs Gold (правила)**\n",
        "У подхода на основе правил присутствует класс \"unclassified\", однако он не имеет ни одной записи (support = 0).\n",
        "Точность для коммуникативных ошибок: 0.94\n",
        "Полнота для коммуникативных ошибок: 0.78\n",
        "F1-Score для коммуникативных ошибок: 0.85\n",
        "Языковые ошибки имеют немного лучшую полноту (0.82), точность чуть выше (0.95), и общий F1-Score равен 0.88.\n",
        "Accuracy всего набора равна 0.81, что заметно ниже результата модели машинного обучения.\n",
        "\n",
        "**Итоговые выводы:**\n",
        "Модель машинного обучения показала лучшие результаты практически по всем показателям: общая точность, полнота и средний показатель F1.\n",
        "Подход на основе правил хуже справляется с задачей классификации, особенно в плане полноты классов (\"языковое\").\n",
        "Различия наблюдаются в балансе точности и полноты: ML лучше удерживает баланс, тогда как rule-based жертвует полнотой ради повышения точности."
      ],
      "metadata": {
        "id": "2yiCUWAD3Rjs"
      }
    }
  ]
}