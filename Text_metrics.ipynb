{
  "nbformat": 4,
  "nbformat_minor": 0,
  "metadata": {
    "colab": {
      "provenance": [],
      "gpuType": "T4",
      "authorship_tag": "ABX9TyMtCrrX3xf+LbCK14sibBn3",
      "include_colab_link": true
    },
    "kernelspec": {
      "name": "python3",
      "display_name": "Python 3"
    },
    "language_info": {
      "name": "python"
    },
    "accelerator": "GPU"
  },
  "cells": [
    {
      "cell_type": "markdown",
      "metadata": {
        "id": "view-in-github",
        "colab_type": "text"
      },
      "source": [
        "<a href=\"https://colab.research.google.com/github/Kruglikle/EduText-Analyzer/blob/main/Text_metrics.ipynb\" target=\"_parent\"><img src=\"https://colab.research.google.com/assets/colab-badge.svg\" alt=\"Open In Colab\"/></a>"
      ]
    },
    {
      "cell_type": "markdown",
      "source": [
        "Токенизация"
      ],
      "metadata": {
        "id": "JhoE0fFt5Wjy"
      }
    },
    {
      "cell_type": "code",
      "source": [
        "!pip install spacy pandas\n",
        "!python -m spacy download en_core_web_sm #модель для англ яз\n"
      ],
      "metadata": {
        "colab": {
          "base_uri": "https://localhost:8080/"
        },
        "id": "z-f-KOWF6QYY",
        "outputId": "469c4eb3-2d01-4e7e-cb27-1b7a33acf355"
      },
      "execution_count": null,
      "outputs": [
        {
          "output_type": "stream",
          "name": "stdout",
          "text": [
            "Requirement already satisfied: spacy in /usr/local/lib/python3.12/dist-packages (3.8.7)\n",
            "Requirement already satisfied: pandas in /usr/local/lib/python3.12/dist-packages (2.2.2)\n",
            "Requirement already satisfied: spacy-legacy<3.1.0,>=3.0.11 in /usr/local/lib/python3.12/dist-packages (from spacy) (3.0.12)\n",
            "Requirement already satisfied: spacy-loggers<2.0.0,>=1.0.0 in /usr/local/lib/python3.12/dist-packages (from spacy) (1.0.5)\n",
            "Requirement already satisfied: murmurhash<1.1.0,>=0.28.0 in /usr/local/lib/python3.12/dist-packages (from spacy) (1.0.13)\n",
            "Requirement already satisfied: cymem<2.1.0,>=2.0.2 in /usr/local/lib/python3.12/dist-packages (from spacy) (2.0.11)\n",
            "Requirement already satisfied: preshed<3.1.0,>=3.0.2 in /usr/local/lib/python3.12/dist-packages (from spacy) (3.0.10)\n",
            "Requirement already satisfied: thinc<8.4.0,>=8.3.4 in /usr/local/lib/python3.12/dist-packages (from spacy) (8.3.6)\n",
            "Requirement already satisfied: wasabi<1.2.0,>=0.9.1 in /usr/local/lib/python3.12/dist-packages (from spacy) (1.1.3)\n",
            "Requirement already satisfied: srsly<3.0.0,>=2.4.3 in /usr/local/lib/python3.12/dist-packages (from spacy) (2.5.1)\n",
            "Requirement already satisfied: catalogue<2.1.0,>=2.0.6 in /usr/local/lib/python3.12/dist-packages (from spacy) (2.0.10)\n",
            "Requirement already satisfied: weasel<0.5.0,>=0.1.0 in /usr/local/lib/python3.12/dist-packages (from spacy) (0.4.1)\n",
            "Requirement already satisfied: typer<1.0.0,>=0.3.0 in /usr/local/lib/python3.12/dist-packages (from spacy) (0.17.3)\n",
            "Requirement already satisfied: tqdm<5.0.0,>=4.38.0 in /usr/local/lib/python3.12/dist-packages (from spacy) (4.67.1)\n",
            "Requirement already satisfied: numpy>=1.19.0 in /usr/local/lib/python3.12/dist-packages (from spacy) (2.0.2)\n",
            "Requirement already satisfied: requests<3.0.0,>=2.13.0 in /usr/local/lib/python3.12/dist-packages (from spacy) (2.32.4)\n",
            "Requirement already satisfied: pydantic!=1.8,!=1.8.1,<3.0.0,>=1.7.4 in /usr/local/lib/python3.12/dist-packages (from spacy) (2.11.7)\n",
            "Requirement already satisfied: jinja2 in /usr/local/lib/python3.12/dist-packages (from spacy) (3.1.6)\n",
            "Requirement already satisfied: setuptools in /usr/local/lib/python3.12/dist-packages (from spacy) (75.2.0)\n",
            "Requirement already satisfied: packaging>=20.0 in /usr/local/lib/python3.12/dist-packages (from spacy) (25.0)\n",
            "Requirement already satisfied: langcodes<4.0.0,>=3.2.0 in /usr/local/lib/python3.12/dist-packages (from spacy) (3.5.0)\n",
            "Requirement already satisfied: python-dateutil>=2.8.2 in /usr/local/lib/python3.12/dist-packages (from pandas) (2.9.0.post0)\n",
            "Requirement already satisfied: pytz>=2020.1 in /usr/local/lib/python3.12/dist-packages (from pandas) (2025.2)\n",
            "Requirement already satisfied: tzdata>=2022.7 in /usr/local/lib/python3.12/dist-packages (from pandas) (2025.2)\n",
            "Requirement already satisfied: language-data>=1.2 in /usr/local/lib/python3.12/dist-packages (from langcodes<4.0.0,>=3.2.0->spacy) (1.3.0)\n",
            "Requirement already satisfied: annotated-types>=0.6.0 in /usr/local/lib/python3.12/dist-packages (from pydantic!=1.8,!=1.8.1,<3.0.0,>=1.7.4->spacy) (0.7.0)\n",
            "Requirement already satisfied: pydantic-core==2.33.2 in /usr/local/lib/python3.12/dist-packages (from pydantic!=1.8,!=1.8.1,<3.0.0,>=1.7.4->spacy) (2.33.2)\n",
            "Requirement already satisfied: typing-extensions>=4.12.2 in /usr/local/lib/python3.12/dist-packages (from pydantic!=1.8,!=1.8.1,<3.0.0,>=1.7.4->spacy) (4.15.0)\n",
            "Requirement already satisfied: typing-inspection>=0.4.0 in /usr/local/lib/python3.12/dist-packages (from pydantic!=1.8,!=1.8.1,<3.0.0,>=1.7.4->spacy) (0.4.1)\n",
            "Requirement already satisfied: six>=1.5 in /usr/local/lib/python3.12/dist-packages (from python-dateutil>=2.8.2->pandas) (1.17.0)\n",
            "Requirement already satisfied: charset_normalizer<4,>=2 in /usr/local/lib/python3.12/dist-packages (from requests<3.0.0,>=2.13.0->spacy) (3.4.3)\n",
            "Requirement already satisfied: idna<4,>=2.5 in /usr/local/lib/python3.12/dist-packages (from requests<3.0.0,>=2.13.0->spacy) (3.10)\n",
            "Requirement already satisfied: urllib3<3,>=1.21.1 in /usr/local/lib/python3.12/dist-packages (from requests<3.0.0,>=2.13.0->spacy) (2.5.0)\n",
            "Requirement already satisfied: certifi>=2017.4.17 in /usr/local/lib/python3.12/dist-packages (from requests<3.0.0,>=2.13.0->spacy) (2025.8.3)\n",
            "Requirement already satisfied: blis<1.4.0,>=1.3.0 in /usr/local/lib/python3.12/dist-packages (from thinc<8.4.0,>=8.3.4->spacy) (1.3.0)\n",
            "Requirement already satisfied: confection<1.0.0,>=0.0.1 in /usr/local/lib/python3.12/dist-packages (from thinc<8.4.0,>=8.3.4->spacy) (0.1.5)\n",
            "Requirement already satisfied: click>=8.0.0 in /usr/local/lib/python3.12/dist-packages (from typer<1.0.0,>=0.3.0->spacy) (8.2.1)\n",
            "Requirement already satisfied: shellingham>=1.3.0 in /usr/local/lib/python3.12/dist-packages (from typer<1.0.0,>=0.3.0->spacy) (1.5.4)\n",
            "Requirement already satisfied: rich>=10.11.0 in /usr/local/lib/python3.12/dist-packages (from typer<1.0.0,>=0.3.0->spacy) (13.9.4)\n",
            "Requirement already satisfied: cloudpathlib<1.0.0,>=0.7.0 in /usr/local/lib/python3.12/dist-packages (from weasel<0.5.0,>=0.1.0->spacy) (0.22.0)\n",
            "Requirement already satisfied: smart-open<8.0.0,>=5.2.1 in /usr/local/lib/python3.12/dist-packages (from weasel<0.5.0,>=0.1.0->spacy) (7.3.0.post1)\n",
            "Requirement already satisfied: MarkupSafe>=2.0 in /usr/local/lib/python3.12/dist-packages (from jinja2->spacy) (3.0.2)\n",
            "Requirement already satisfied: marisa-trie>=1.1.0 in /usr/local/lib/python3.12/dist-packages (from language-data>=1.2->langcodes<4.0.0,>=3.2.0->spacy) (1.3.1)\n",
            "Requirement already satisfied: markdown-it-py>=2.2.0 in /usr/local/lib/python3.12/dist-packages (from rich>=10.11.0->typer<1.0.0,>=0.3.0->spacy) (4.0.0)\n",
            "Requirement already satisfied: pygments<3.0.0,>=2.13.0 in /usr/local/lib/python3.12/dist-packages (from rich>=10.11.0->typer<1.0.0,>=0.3.0->spacy) (2.19.2)\n",
            "Requirement already satisfied: wrapt in /usr/local/lib/python3.12/dist-packages (from smart-open<8.0.0,>=5.2.1->weasel<0.5.0,>=0.1.0->spacy) (1.17.3)\n",
            "Requirement already satisfied: mdurl~=0.1 in /usr/local/lib/python3.12/dist-packages (from markdown-it-py>=2.2.0->rich>=10.11.0->typer<1.0.0,>=0.3.0->spacy) (0.1.2)\n",
            "Collecting en-core-web-sm==3.8.0\n",
            "  Downloading https://github.com/explosion/spacy-models/releases/download/en_core_web_sm-3.8.0/en_core_web_sm-3.8.0-py3-none-any.whl (12.8 MB)\n",
            "\u001b[2K     \u001b[90m━━━━━━━━━━━━━━━━━━━━━━━━━━━━━━━━━━━━━━━\u001b[0m \u001b[32m12.8/12.8 MB\u001b[0m \u001b[31m126.8 MB/s\u001b[0m eta \u001b[36m0:00:00\u001b[0m\n",
            "\u001b[?25h\u001b[38;5;2m✔ Download and installation successful\u001b[0m\n",
            "You can now load the package via spacy.load('en_core_web_sm')\n",
            "\u001b[38;5;3m⚠ Restart to reload dependencies\u001b[0m\n",
            "If you are in a Jupyter or Colab notebook, you may need to restart Python in\n",
            "order to load all the package's dependencies. You can do this by selecting the\n",
            "'Restart kernel' or 'Restart runtime' option.\n"
          ]
        }
      ]
    },
    {
      "cell_type": "code",
      "source": [
        "import spacy\n",
        "import pandas as pd\n",
        "\n",
        "#Загружаем модель spaCy\n",
        "nlp = spacy.load(\"en_core_web_sm\")\n",
        "\n",
        "#Загружаем файл с текстами\n",
        "df = pd.read_excel(\"texts-spotlight-8.xlsx\")   # если Excel\n",
        "# df = pd.read_csv(\"texts.csv\", encoding=\"utf-8\")  # если CSV\n",
        "\n",
        "# Функции токенизациb\n",
        "\n",
        "# Только слова (чистая лексика)\n",
        "def tokenize_words(text):\n",
        "    doc = nlp(str(text))\n",
        "    return [token.text.lower() for token in doc if token.is_alpha]\n",
        "\n",
        "# С пунктуацией (для восстановления предложений)\n",
        "def tokenize_with_punct(text):\n",
        "    doc = nlp(str(text))\n",
        "    return [token.text for token in doc if not token.is_space]\n",
        "\n",
        "# Формируем первую таблицу (только слова)\n",
        "rows_words = []\n",
        "for _, row in df.iterrows():\n",
        "    klass = row[\"Класс\"]\n",
        "    tokens = tokenize_words(row[\"Текст\"])\n",
        "    for token in tokens:\n",
        "        rows_words.append({\"Класс\": klass, \"Токен\": token})\n",
        "\n",
        "tokens_words_df = pd.DataFrame(rows_words)\n",
        "\n",
        "# Формируем вторую таблицу (со знаками препинания)\n",
        "rows_punct = []\n",
        "for _, row in df.iterrows():\n",
        "    klass = row[\"Класс\"]\n",
        "    tokens = tokenize_with_punct(row[\"Текст\"])\n",
        "    for token in tokens:\n",
        "        rows_punct.append({\"Класс\": klass, \"Токен\": token})\n",
        "\n",
        "tokens_punct_df = pd.DataFrame(rows_punct)\n",
        "\n",
        "# Сохраняем рез-ы\n",
        "tokens_words_df.to_csv(\"tokens_words.csv\", index=False, encoding=\"utf-8-sig\")\n",
        "tokens_words_df.to_excel(\"tokens_words.xlsx\", index=False)\n",
        "\n",
        "tokens_punct_df.to_csv(\"tokens_with_punct.csv\", index=False, encoding=\"utf-8-sig\")\n",
        "tokens_punct_df.to_excel(\"tokens_with_punct.xlsx\", index=False)\n",
        "\n",
        "print(\"Готово!\")\n",
        "print(\"Таблица слов: tokens_words.xlsx\")\n",
        "print(\"Таблица с пунктуацией: tokens_with_punct.xlsx\")\n"
      ],
      "metadata": {
        "colab": {
          "base_uri": "https://localhost:8080/"
        },
        "id": "e-MXXSN2Y1hG",
        "outputId": "4b623d79-b5aa-4f35-d621-29f5497d1c04"
      },
      "execution_count": null,
      "outputs": [
        {
          "output_type": "stream",
          "name": "stdout",
          "text": [
            "Готово!\n",
            "Таблица слов: tokens_words.xlsx\n",
            "Таблица с пунктуацией: tokens_with_punct.xlsx\n"
          ]
        }
      ]
    },
    {
      "cell_type": "markdown",
      "source": [
        "Здесь только одна таблица"
      ],
      "metadata": {
        "id": "cVT-onzsZKIK"
      }
    },
    {
      "cell_type": "code",
      "source": [
        "import spacy\n",
        "import pandas as pd\n",
        "\n",
        "# Загружаем модель spaCy\n",
        "nlp = spacy.load(\"en_core_web_sm\")\n",
        "\n",
        "#  Загружаем файл с текстами\n",
        "# Можно читать .csv или .xlsx — закомментируй лишнее\n",
        "df = pd.read_excel(\"texts-spotlight-6.xlsx\")   # если Excel\n",
        "# df = pd.read_csv(\"texts.csv\", encoding=\"utf-8\")  # если CSV\n",
        "\n",
        "#  Функция токенизации\n",
        "def tokenize_text(text):\n",
        "    doc = nlp(str(text))  # превращаем в строку на всякий случай\n",
        "    return [token.text.lower() for token in doc if token.is_alpha]\n",
        "\n",
        "#Создаём таблицу токенов по всем текстам\n",
        "rows = []\n",
        "for _, row in df.iterrows():\n",
        "    klass = row[\"Класс\"]\n",
        "    tokens = tokenize_text(row[\"Текст\"])\n",
        "    for token in tokens:\n",
        "        rows.append({\"Класс\": klass, \"Токен\": token})\n",
        "\n",
        "tokens_df = pd.DataFrame(rows)\n",
        "\n",
        "# Сохраняем результат\n",
        "tokens_df.to_csv(\"tokens_all.csv\", index=False, encoding=\"utf-8-sig\")\n",
        "tokens_df.to_excel(\"tokens_all.xlsx\", index=False)\n",
        "\n",
        "print(\"Токены сохранены в tokens_all.csv и tokens_all.xlsx\")\n",
        "print(tokens_df.head())\n"
      ],
      "metadata": {
        "colab": {
          "base_uri": "https://localhost:8080/"
        },
        "id": "MO_0F45G5YS1",
        "outputId": "1597d6f7-2bf6-4902-a5a5-61b79e9c159e"
      },
      "execution_count": null,
      "outputs": [
        {
          "output_type": "stream",
          "name": "stdout",
          "text": [
            "Токены сохранены в tokens_all.csv и tokens_all.xlsx\n",
            "   Класс      Токен\n",
            "0      1  spotlight\n",
            "1      1         on\n",
            "2      1     russia\n",
            "3      1      looks\n",
            "4      1         at\n"
          ]
        }
      ]
    },
    {
      "cell_type": "markdown",
      "source": [
        "Библиотека textstat в Python — это инструмент для автоматического анализа читаемости текста. Она предоставляет функции для оценки, насколько легко или сложно читать текст, используя различные метрики (например, Flesch Reading Ease, Gunning Fog, SMOG, и др.)."
      ],
      "metadata": {
        "id": "5Pg-scvD59jN"
      }
    },
    {
      "cell_type": "markdown",
      "source": [
        "| Метод                                         | Что измеряет                                                       |\n",
        "| --------------------------------------------- | ------------------------------------------------------------------ |\n",
        "| `textstat.flesch_reading_ease(text)`          | Оценка читаемости по шкале Флеша (чем выше, тем легче читать)      |\n",
        "| `textstat.flesch_kincaid_grade(text)`         | Класс школьника, которому будет понятен текст                      |\n",
        "| `textstat.smog_index(text)`                   | Оценка сложности для восприятия (подходит для мед. и тех. текстов) |\n",
        "| `textstat.gunning_fog(text)`                  | Количество лет образования, нужное для понимания                   |\n",
        "| `textstat.automated_readability_index(text)`  | Уровень читаемости по количеству символов                          |\n",
        "| `textstat.dale_chall_readability_score(text)` | Использует список знакомых слов для оценки сложности               |\n",
        "| `textstat.lexicon_count(text)`                | Количество слов                                                    |\n",
        "| `textstat.syllable_count(text)`               | Количество слогов                                                  |\n",
        "| `textstat.sentence_count(text)`               | Количество предложений                                             |\n"
      ],
      "metadata": {
        "id": "ukogQb7n5-Ym"
      }
    },
    {
      "cell_type": "markdown",
      "source": [
        "| Метод                                | Диапазон значений | Единицы                     | Интерпретация                                                     |\n",
        "| ------------------------------------ | ----------------- | --------------------------- | ----------------------------------------------------------------- |\n",
        "| `flesch_reading_ease(text)`          | **0 – 100+**      | Баллы (чем выше, тем легче) | > 90 — очень легко (5-й класс), < 30 — очень сложно (университет) |\n",
        "| `flesch_kincaid_grade(text)`         | \\~0 – 12+         | Класс/грейд (США)           | 5.0 — 5 класс, 12.0 — выпускной класс, >12 — ВУЗ                  |\n",
        "| `smog_index(text)`                   | \\~3 – 18+         | Лет образования             | ≥12 — сложный текст, <6 — простой                                 |\n",
        "| `gunning_fog(text)`                  | \\~6 – 20+         | Лет образования             | >12 — сложно, <8 — просто                                         |\n",
        "| `automated_readability_index(text)`  | \\~0 – 14+         | Класс/грейд (США)           | 3 — легко, 12 — сложно                                            |\n",
        "| `dale_chall_readability_score(text)` | **4.9 – 10+**     | Баллы                       | <5 — легко (≥80% слов знакомы), >8 — сложно                       |\n",
        "| `lexicon_count(text)`                | ≥ 0               | Кол-во слов                 | Просто количество слов в тексте                                   |\n",
        "| `syllable_count(text)`               | ≥ 0               | Кол-во слогов               | Считаются слоги во всех словах                                    |\n",
        "| `sentence_count(text)`               | ≥ 0               | Кол-во предложений          | Просто количество предложений                                     |\n"
      ],
      "metadata": {
        "id": "guMcUCTQ6ERg"
      }
    },
    {
      "cell_type": "markdown",
      "source": [
        "Как работает внутри?\n",
        "Tokenizer: textstat разбивает текст на слова, предложения, слоги.\n",
        "\n",
        "Подсчёты: Затем считает количество: слов, предложений, слогов\n",
        "\n",
        "Формулы: На основе этих подсчётов применяет формулы читаемости. Например, Flesch Reading Ease:"
      ],
      "metadata": {
        "id": "ChT7L4Q39GLc"
      }
    },
    {
      "cell_type": "markdown",
      "source": [
        "![image.png](data:image/png;base64,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)"
      ],
      "metadata": {
        "id": "hT39gq3R9J18"
      }
    },
    {
      "cell_type": "markdown",
      "source": [
        "📌 Примечания\n",
        "textstat хорошо работает с английским языком. Для других языков (включая русский) работает плохо или некорректно — из-за распознавания слогов, слов и частотных списков.\n",
        "\n",
        "Он не использует NLP-модели — это легковесная, формульная библиотека."
      ],
      "metadata": {
        "id": "MA7L7DmS9Nyh"
      }
    },
    {
      "cell_type": "code",
      "source": [
        "!pip install textstat"
      ],
      "metadata": {
        "colab": {
          "base_uri": "https://localhost:8080/"
        },
        "id": "NPkg-kGF6Ipb",
        "outputId": "6e71b27b-ecb7-4c90-bddb-c413af554f32"
      },
      "execution_count": null,
      "outputs": [
        {
          "output_type": "stream",
          "name": "stdout",
          "text": [
            "Collecting textstat\n",
            "  Downloading textstat-0.7.10-py3-none-any.whl.metadata (15 kB)\n",
            "Collecting pyphen (from textstat)\n",
            "  Downloading pyphen-0.17.2-py3-none-any.whl.metadata (3.2 kB)\n",
            "Requirement already satisfied: nltk in /usr/local/lib/python3.12/dist-packages (from textstat) (3.9.1)\n",
            "Requirement already satisfied: setuptools in /usr/local/lib/python3.12/dist-packages (from textstat) (75.2.0)\n",
            "Requirement already satisfied: click in /usr/local/lib/python3.12/dist-packages (from nltk->textstat) (8.2.1)\n",
            "Requirement already satisfied: joblib in /usr/local/lib/python3.12/dist-packages (from nltk->textstat) (1.5.2)\n",
            "Requirement already satisfied: regex>=2021.8.3 in /usr/local/lib/python3.12/dist-packages (from nltk->textstat) (2024.11.6)\n",
            "Requirement already satisfied: tqdm in /usr/local/lib/python3.12/dist-packages (from nltk->textstat) (4.67.1)\n",
            "Downloading textstat-0.7.10-py3-none-any.whl (239 kB)\n",
            "\u001b[2K   \u001b[90m━━━━━━━━━━━━━━━━━━━━━━━━━━━━━━━━━━━━━━━━\u001b[0m \u001b[32m239.2/239.2 kB\u001b[0m \u001b[31m7.9 MB/s\u001b[0m eta \u001b[36m0:00:00\u001b[0m\n",
            "\u001b[?25hDownloading pyphen-0.17.2-py3-none-any.whl (2.1 MB)\n",
            "\u001b[2K   \u001b[90m━━━━━━━━━━━━━━━━━━━━━━━━━━━━━━━━━━━━━━━━\u001b[0m \u001b[32m2.1/2.1 MB\u001b[0m \u001b[31m35.9 MB/s\u001b[0m eta \u001b[36m0:00:00\u001b[0m\n",
            "\u001b[?25hInstalling collected packages: pyphen, textstat\n",
            "Successfully installed pyphen-0.17.2 textstat-0.7.10\n"
          ]
        }
      ]
    },
    {
      "cell_type": "code",
      "source": [
        "import pandas as pd\n",
        "import textstat\n",
        "\n",
        "# Загружаем таблицу (поддерживает .csv или .xlsx)\n",
        "file_path = \"texts-spotlight-8.xlsx\"  # путь к твоей таблице с колонками \"Класс\" и \"Текст\"\n",
        "df = pd.read_excel(file_path) if file_path.endswith(\".xlsx\") else pd.read_csv(file_path)\n",
        "\n",
        "results = []\n",
        "\n",
        "for _, row in df.iterrows():\n",
        "    klass = row[\"Класс\"]\n",
        "    text = str(row[\"Текст\"]) if not pd.isna(row[\"Текст\"]) else \"\"\n",
        "\n",
        "    metrics = {\n",
        "        \"Класс\": klass,\n",
        "        \"Flesch Reading Ease\": textstat.flesch_reading_ease(text),\n",
        "        \"Flesch-Kincaid Grade\": textstat.flesch_kincaid_grade(text),\n",
        "        \"SMOG Index\": textstat.smog_index(text),\n",
        "        \"Gunning Fog Index\": textstat.gunning_fog(text),\n",
        "        \"Automated Readability Index\": textstat.automated_readability_index(text),\n",
        "        \"Dale-Chall Score\": textstat.dale_chall_readability_score(text),\n",
        "        \"Total words\": textstat.lexicon_count(text),\n",
        "        \"Total sentences\": textstat.sentence_count(text),\n",
        "        \"Total syllables\": textstat.syllable_count(text)\n",
        "    }\n",
        "    results.append(metrics)\n",
        "\n",
        "df_out = pd.DataFrame(results)\n",
        "df_out.to_excel(\"textstat_results-6.xlsx\", index=False)\n",
        "print(\"Готово. Результаты сохранены в textstat_results.xlsx\")\n"
      ],
      "metadata": {
        "colab": {
          "base_uri": "https://localhost:8080/"
        },
        "id": "OoBMkrPc6LW3",
        "outputId": "eb79531a-d9f1-40a0-e51e-0eb371790c3a"
      },
      "execution_count": null,
      "outputs": [
        {
          "output_type": "stream",
          "name": "stdout",
          "text": [
            "Готово. Результаты сохранены в textstat_results.xlsx\n"
          ]
        }
      ]
    },
    {
      "cell_type": "markdown",
      "source": [
        "По шкале CEFR"
      ],
      "metadata": {
        "id": "qL9CLlnc4dqc"
      }
    },
    {
      "cell_type": "code",
      "source": [
        "import pandas as pd\n",
        "import csv\n",
        "import spacy\n",
        "from collections import Counter\n",
        "\n",
        "# Настройка\n",
        "text_file = \"texts-spotlight-8.xlsx\"       # таблица с колонками \"Класс\", \"Текст\"\n",
        "cefr_file = \"len_cefr.csv\"     # словарь слово - уровень\n",
        "agg_output = \"cefr_by_class.xlsx\"\n",
        "wordlist_output = \"cefr_wordlist.xlsx\"\n",
        "\n",
        "#Загружаем CEFR словарь\n",
        "cefr_order = {'A1': 1, 'A2': 2, 'B1': 3, 'B2': 4, 'C1': 5, 'C2': 6}\n",
        "\n",
        "word_levels = {}\n",
        "with open(cefr_file, encoding='utf-8') as csvfile:\n",
        "    reader = csv.DictReader(csvfile)\n",
        "    for row in reader:\n",
        "        word = row['Word'].strip().lower()\n",
        "        level = row['CEFR Level'].strip().upper()\n",
        "        if word not in word_levels or cefr_order.get(level, 7) < cefr_order.get(word_levels[word], 7):\n",
        "            word_levels[word] = level\n",
        "\n",
        "#Загружаем модель spaCy\n",
        "nlp = spacy.load(\"en_core_web_sm\")\n",
        "\n",
        "# Читаем таблицу с текстами\n",
        "df = pd.read_excel(text_file) if text_file.endswith(\".xlsx\") else pd.read_csv(text_file)\n",
        "\n",
        "# Данные для двух таблиц\n",
        "class_results = []  # агрегированные\n",
        "wordlist_rows = []  # полный список\n",
        "\n",
        "for klass, group in df.groupby(\"Класс\"):\n",
        "    all_words = []\n",
        "    for text in group[\"Текст\"]:\n",
        "        doc = nlp(str(text))\n",
        "        words = [token.text.lower() for token in doc if token.is_alpha]\n",
        "        all_words.extend(words)\n",
        "\n",
        "    # Для агрегата берём только уникальные слова\n",
        "    unique_words = set(all_words)\n",
        "\n",
        "    # Подсчёт уровней по уникальным словам (агрегат)\n",
        "    unique_levels = [word_levels.get(w, \"unknown\") for w in unique_words]\n",
        "    counts = Counter(unique_levels)\n",
        "    total_unique = sum(counts.values())\n",
        "\n",
        "    row = {\"Класс\": klass}\n",
        "    for level in [\"A1\", \"A2\", \"B1\", \"B2\", \"C1\", \"C2\", \"unknown\"]:\n",
        "        count = counts.get(level, 0)\n",
        "        row[level] = count\n",
        "        row[f\"{level}_%\"] = round((count / total_unique * 100), 1) if total_unique > 0 else 0\n",
        "    class_results.append(row)\n",
        "\n",
        "    # Для wordlist считаем частоты (с повторениями)\n",
        "    word_freq = Counter(all_words)\n",
        "    for w, freq in word_freq.items():\n",
        "        wordlist_rows.append({\n",
        "            \"Класс\": klass,\n",
        "            \"Слово\": w,\n",
        "            \"CEFR\": word_levels.get(w, \"unknown\"),\n",
        "            \"Частота\": freq\n",
        "        })\n",
        "\n",
        "# Сохраняем агрегированные данные\n",
        "df_out = pd.DataFrame(class_results).sort_values(\"Класс\")\n",
        "df_out.to_excel(agg_output, index=False)\n",
        "\n",
        "# Сохраняем полный список слов с частотами\n",
        "df_words = pd.DataFrame(wordlist_rows).sort_values([\"Класс\", \"Слово\"])\n",
        "df_words.to_excel(wordlist_output, index=False)\n",
        "\n",
        "print(f\"Агрегированные данные сохранены в {agg_output}\")\n",
        "print(f\"Полный список слов сохранён в {wordlist_output}\")\n"
      ],
      "metadata": {
        "colab": {
          "base_uri": "https://localhost:8080/"
        },
        "id": "YA6Iu9PY5QQs",
        "outputId": "d22a18c7-78e4-417b-8d3a-49b235e0f408"
      },
      "execution_count": null,
      "outputs": [
        {
          "output_type": "stream",
          "name": "stdout",
          "text": [
            "Агрегированные данные сохранены в cefr_by_class.xlsx\n",
            "Полный список слов сохранён в cefr_wordlist.xlsx\n"
          ]
        }
      ]
    },
    {
      "cell_type": "markdown",
      "source": [
        "!проблема - много unknown"
      ],
      "metadata": {
        "id": "pT1C_NSC0hbe"
      }
    },
    {
      "cell_type": "markdown",
      "source": [
        "По Левенштейну"
      ],
      "metadata": {
        "id": "4PtwGgLQ4hnc"
      }
    },
    {
      "cell_type": "code",
      "source": [
        "!pip install python-Levenshtein\n",
        "!pip install transliterate\n",
        "!pip install deep-translator"
      ],
      "metadata": {
        "colab": {
          "base_uri": "https://localhost:8080/"
        },
        "id": "aDS3ofPT4jsi",
        "outputId": "c49fbc12-8769-48c9-e4fb-ebb6b287e66b"
      },
      "execution_count": null,
      "outputs": [
        {
          "output_type": "stream",
          "name": "stdout",
          "text": [
            "Collecting python-Levenshtein\n",
            "  Downloading python_levenshtein-0.27.1-py3-none-any.whl.metadata (3.7 kB)\n",
            "Collecting Levenshtein==0.27.1 (from python-Levenshtein)\n",
            "  Downloading levenshtein-0.27.1-cp312-cp312-manylinux_2_17_x86_64.manylinux2014_x86_64.whl.metadata (3.6 kB)\n",
            "Collecting rapidfuzz<4.0.0,>=3.9.0 (from Levenshtein==0.27.1->python-Levenshtein)\n",
            "  Downloading rapidfuzz-3.14.0-cp312-cp312-manylinux_2_27_x86_64.manylinux_2_28_x86_64.whl.metadata (12 kB)\n",
            "Downloading python_levenshtein-0.27.1-py3-none-any.whl (9.4 kB)\n",
            "Downloading levenshtein-0.27.1-cp312-cp312-manylinux_2_17_x86_64.manylinux2014_x86_64.whl (159 kB)\n",
            "\u001b[2K   \u001b[90m━━━━━━━━━━━━━━━━━━━━━━━━━━━━━━━━━━━━━━━━\u001b[0m \u001b[32m159.9/159.9 kB\u001b[0m \u001b[31m5.3 MB/s\u001b[0m eta \u001b[36m0:00:00\u001b[0m\n",
            "\u001b[?25hDownloading rapidfuzz-3.14.0-cp312-cp312-manylinux_2_27_x86_64.manylinux_2_28_x86_64.whl (3.3 MB)\n",
            "\u001b[2K   \u001b[90m━━━━━━━━━━━━━━━━━━━━━━━━━━━━━━━━━━━━━━━━\u001b[0m \u001b[32m3.3/3.3 MB\u001b[0m \u001b[31m49.0 MB/s\u001b[0m eta \u001b[36m0:00:00\u001b[0m\n",
            "\u001b[?25hInstalling collected packages: rapidfuzz, Levenshtein, python-Levenshtein\n",
            "Successfully installed Levenshtein-0.27.1 python-Levenshtein-0.27.1 rapidfuzz-3.14.0\n",
            "Collecting transliterate\n",
            "  Downloading transliterate-1.10.2-py2.py3-none-any.whl.metadata (14 kB)\n",
            "Requirement already satisfied: six>=1.1.0 in /usr/local/lib/python3.12/dist-packages (from transliterate) (1.17.0)\n",
            "Downloading transliterate-1.10.2-py2.py3-none-any.whl (45 kB)\n",
            "\u001b[2K   \u001b[90m━━━━━━━━━━━━━━━━━━━━━━━━━━━━━━━━━━━━━━━━\u001b[0m \u001b[32m45.8/45.8 kB\u001b[0m \u001b[31m2.5 MB/s\u001b[0m eta \u001b[36m0:00:00\u001b[0m\n",
            "\u001b[?25hInstalling collected packages: transliterate\n",
            "Successfully installed transliterate-1.10.2\n",
            "Collecting deep-translator\n",
            "  Downloading deep_translator-1.11.4-py3-none-any.whl.metadata (30 kB)\n",
            "Requirement already satisfied: beautifulsoup4<5.0.0,>=4.9.1 in /usr/local/lib/python3.12/dist-packages (from deep-translator) (4.13.5)\n",
            "Requirement already satisfied: requests<3.0.0,>=2.23.0 in /usr/local/lib/python3.12/dist-packages (from deep-translator) (2.32.4)\n",
            "Requirement already satisfied: soupsieve>1.2 in /usr/local/lib/python3.12/dist-packages (from beautifulsoup4<5.0.0,>=4.9.1->deep-translator) (2.8)\n",
            "Requirement already satisfied: typing-extensions>=4.0.0 in /usr/local/lib/python3.12/dist-packages (from beautifulsoup4<5.0.0,>=4.9.1->deep-translator) (4.15.0)\n",
            "Requirement already satisfied: charset_normalizer<4,>=2 in /usr/local/lib/python3.12/dist-packages (from requests<3.0.0,>=2.23.0->deep-translator) (3.4.3)\n",
            "Requirement already satisfied: idna<4,>=2.5 in /usr/local/lib/python3.12/dist-packages (from requests<3.0.0,>=2.23.0->deep-translator) (3.10)\n",
            "Requirement already satisfied: urllib3<3,>=1.21.1 in /usr/local/lib/python3.12/dist-packages (from requests<3.0.0,>=2.23.0->deep-translator) (2.5.0)\n",
            "Requirement already satisfied: certifi>=2017.4.17 in /usr/local/lib/python3.12/dist-packages (from requests<3.0.0,>=2.23.0->deep-translator) (2025.8.3)\n",
            "Downloading deep_translator-1.11.4-py3-none-any.whl (42 kB)\n",
            "\u001b[2K   \u001b[90m━━━━━━━━━━━━━━━━━━━━━━━━━━━━━━━━━━━━━━━━\u001b[0m \u001b[32m42.3/42.3 kB\u001b[0m \u001b[31m2.8 MB/s\u001b[0m eta \u001b[36m0:00:00\u001b[0m\n",
            "\u001b[?25hInstalling collected packages: deep-translator\n",
            "Successfully installed deep-translator-1.11.4\n"
          ]
        }
      ]
    },
    {
      "cell_type": "code",
      "source": [
        "import pandas as pd\n",
        "import spacy\n",
        "from deep_translator import GoogleTranslator\n",
        "\n",
        "input_file = 'texts-spotlight-8.xlsx'  # входной файл с колонками \"Класс\" и \"Текст\"\n",
        "output_file = 'translation_by_class.xlsx'\n",
        "\n",
        "nlp = spacy.load(\"en_core_web_sm\")\n",
        "translator = GoogleTranslator(source='en', target='ru')\n",
        "\n",
        "# Читаем Excel\n",
        "df = pd.read_excel(input_file)\n",
        "\n",
        "rows = []\n",
        "\n",
        "# Группируем по классу\n",
        "for klass, group in df.groupby('Класс'):\n",
        "    unique_words = set()\n",
        "    for text in group['Текст']:\n",
        "        if pd.isna(text):\n",
        "            continue\n",
        "        doc = nlp(str(text))\n",
        "        words = [token.text.lower() for token in doc if token.is_alpha]\n",
        "        unique_words.update(words)\n",
        "\n",
        "    for word in sorted(unique_words):\n",
        "        try:\n",
        "            translation = translator.translate(word)\n",
        "        except Exception as e:\n",
        "            translation = \"Ошибка перевода\"\n",
        "            print(f\"Ошибка при переводе '{word}': {e}\")\n",
        "        rows.append({'Класс': klass, 'Слово': word, 'Перевод': translation})\n",
        "\n",
        "# Создаем DataFrame и сохраняем в Excel\n",
        "df_out = pd.DataFrame(rows)\n",
        "df_out.to_excel(output_file, index=False)\n",
        "\n",
        "print(f\"Файл с переводами сохранён: {output_file}\")"
      ],
      "metadata": {
        "colab": {
          "base_uri": "https://localhost:8080/"
        },
        "id": "w5POffgL4saZ",
        "outputId": "9bc289a6-1214-4904-ba77-f4c8cde02fce"
      },
      "execution_count": null,
      "outputs": [
        {
          "output_type": "stream",
          "name": "stdout",
          "text": [
            "Файл с переводами сохранён: translation_by_class.xlsx\n"
          ]
        }
      ]
    },
    {
      "cell_type": "markdown",
      "source": [
        "Берём английское слово из столбца Фраза (например, cat).\n",
        "\n",
        "Берём русский перевод из столбца Перевод (например, кот).\n",
        "\n",
        "Транслитерируем русский перевод в английские буквы (кот → kot).\n",
        "\n",
        "Сравниваем английское слово (cat) и транслитерированный перевод (kot) через Levenshtein.ratio — метрику, показывающую, насколько строки похожи (от 0 до 1).\n",
        "\n",
        "Если результат близок к 1.0, то это почти точная калька по звучанию (например, bus ↔ бас), а если ближе к 0, то перевод по звучанию не похож (cat ↔ кот)."
      ],
      "metadata": {
        "id": "lkbdmbFe8F6e"
      }
    },
    {
      "cell_type": "code",
      "source": [
        "import pandas as pd\n",
        "import Levenshtein\n",
        "from transliterate import translit\n",
        "\n",
        "# Загрузка данных из файла с колонками Класс, Слово, Перевод\n",
        "df = pd.read_excel('translation_by_class.xlsx')  # или .csv, если нужен другой формат\n",
        "\n",
        "# Проверяем наличие столбцов\n",
        "assert {'Класс', 'Слово', 'Перевод'}.issubset(df.columns), \"Отсутствуют нужные столбцы\"\n",
        "\n",
        "# Функция транслитерации с русского на английский (обратная транслитерация)\n",
        "def transliterate_ru_to_en(word_ru):\n",
        "    try:\n",
        "        return translit(word_ru, 'ru', reversed=True)\n",
        "    except Exception:\n",
        "        return ''\n",
        "\n",
        "# Функция вычисления схожести Levenshtein ratio\n",
        "def calc_similarity(word_en, translation_ru):\n",
        "    translation_en = transliterate_ru_to_en(str(translation_ru)).lower()\n",
        "    return Levenshtein.ratio(str(word_en).lower(), translation_en)\n",
        "\n",
        "# Добавляем столбец со схожестью\n",
        "df['similarity'] = df.apply(lambda row: calc_similarity(row['Слово'], row['Перевод']), axis=1)\n",
        "\n",
        "# Сохраняем в Excel с новым столбцом\n",
        "df.to_excel('translation_with_similarity.xlsx', index=False)\n",
        "\n",
        "# Вывод примера и среднее значение\n",
        "print(df[['Класс', 'Слово', 'Перевод', 'similarity']].head(20))\n",
        "print(f\"\\nСредняя схожесть (Levenshtein ratio): {df['similarity'].mean():.4f}\")\n"
      ],
      "metadata": {
        "colab": {
          "base_uri": "https://localhost:8080/"
        },
        "id": "Mvn6bLaG442h",
        "outputId": "a398231e-1c03-4c32-8cf3-883ab49b64b6"
      },
      "execution_count": null,
      "outputs": [
        {
          "output_type": "stream",
          "name": "stdout",
          "text": [
            "    Класс     Слово     Перевод  similarity\n",
            "0       1         a           а    1.000000\n",
            "1       1      also       также    0.200000\n",
            "2       1        an      анонца    0.444444\n",
            "3       1       and           и    0.000000\n",
            "4       1  anything    что-либо    0.235294\n",
            "5       1       are    являются    0.133333\n",
            "6       1    arrive   приезжать    0.375000\n",
            "7       1     asked     спросил    0.166667\n",
            "8       1        at           в    0.000000\n",
            "9       1       bad      плохой    0.000000\n",
            "10      1        be        быть    0.333333\n",
            "11      1   because  потому что    0.111111\n",
            "12      1    bottle     бутылка    0.461538\n",
            "13      1       box     коробка    0.200000\n",
            "14      1     bunch      связка    0.000000\n",
            "15      1       buy      купить    0.222222\n",
            "16      1      cake        торт    0.000000\n",
            "17      1    called  называется    0.235294\n",
            "18      1       can       может    0.000000\n",
            "19      1  casually    случайно    0.352941\n",
            "\n",
            "Средняя схожесть (Levenshtein ratio): 0.3154\n"
          ]
        }
      ]
    },
    {
      "cell_type": "markdown",
      "source": [
        "LexicalRichness"
      ],
      "metadata": {
        "id": "0G79FW844kXB"
      }
    },
    {
      "cell_type": "code",
      "source": [
        "!pip install lexicalrichness\n"
      ],
      "metadata": {
        "colab": {
          "base_uri": "https://localhost:8080/"
        },
        "id": "z-RsWgts8zcQ",
        "outputId": "5d2be346-978d-42e3-b8c0-858bf9fd77b0"
      },
      "execution_count": null,
      "outputs": [
        {
          "output_type": "stream",
          "name": "stdout",
          "text": [
            "Collecting lexicalrichness\n",
            "  Downloading lexicalrichness-0.5.1.tar.gz (97 kB)\n",
            "\u001b[?25l     \u001b[90m━━━━━━━━━━━━━━━━━━━━━━━━━━━━━━━━━━━━━━━━\u001b[0m \u001b[32m0.0/97.8 kB\u001b[0m \u001b[31m?\u001b[0m eta \u001b[36m-:--:--\u001b[0m\r\u001b[2K     \u001b[90m━━━━━━━━━━━━━━━━━━━━━━━━━━━━━━━━━━━━━━━━\u001b[0m \u001b[32m97.8/97.8 kB\u001b[0m \u001b[31m3.9 MB/s\u001b[0m eta \u001b[36m0:00:00\u001b[0m\n",
            "\u001b[?25h  Preparing metadata (setup.py) ... \u001b[?25l\u001b[?25hdone\n",
            "Requirement already satisfied: scipy>=1.0.0 in /usr/local/lib/python3.12/dist-packages (from lexicalrichness) (1.16.1)\n",
            "Requirement already satisfied: textblob>=0.15.3 in /usr/local/lib/python3.12/dist-packages (from lexicalrichness) (0.19.0)\n",
            "Requirement already satisfied: pandas in /usr/local/lib/python3.12/dist-packages (from lexicalrichness) (2.2.2)\n",
            "Requirement already satisfied: matplotlib in /usr/local/lib/python3.12/dist-packages (from lexicalrichness) (3.10.0)\n",
            "Requirement already satisfied: numpy<2.6,>=1.25.2 in /usr/local/lib/python3.12/dist-packages (from scipy>=1.0.0->lexicalrichness) (2.0.2)\n",
            "Requirement already satisfied: nltk>=3.9 in /usr/local/lib/python3.12/dist-packages (from textblob>=0.15.3->lexicalrichness) (3.9.1)\n",
            "Requirement already satisfied: contourpy>=1.0.1 in /usr/local/lib/python3.12/dist-packages (from matplotlib->lexicalrichness) (1.3.3)\n",
            "Requirement already satisfied: cycler>=0.10 in /usr/local/lib/python3.12/dist-packages (from matplotlib->lexicalrichness) (0.12.1)\n",
            "Requirement already satisfied: fonttools>=4.22.0 in /usr/local/lib/python3.12/dist-packages (from matplotlib->lexicalrichness) (4.59.2)\n",
            "Requirement already satisfied: kiwisolver>=1.3.1 in /usr/local/lib/python3.12/dist-packages (from matplotlib->lexicalrichness) (1.4.9)\n",
            "Requirement already satisfied: packaging>=20.0 in /usr/local/lib/python3.12/dist-packages (from matplotlib->lexicalrichness) (25.0)\n",
            "Requirement already satisfied: pillow>=8 in /usr/local/lib/python3.12/dist-packages (from matplotlib->lexicalrichness) (11.3.0)\n",
            "Requirement already satisfied: pyparsing>=2.3.1 in /usr/local/lib/python3.12/dist-packages (from matplotlib->lexicalrichness) (3.2.3)\n",
            "Requirement already satisfied: python-dateutil>=2.7 in /usr/local/lib/python3.12/dist-packages (from matplotlib->lexicalrichness) (2.9.0.post0)\n",
            "Requirement already satisfied: pytz>=2020.1 in /usr/local/lib/python3.12/dist-packages (from pandas->lexicalrichness) (2025.2)\n",
            "Requirement already satisfied: tzdata>=2022.7 in /usr/local/lib/python3.12/dist-packages (from pandas->lexicalrichness) (2025.2)\n",
            "Requirement already satisfied: click in /usr/local/lib/python3.12/dist-packages (from nltk>=3.9->textblob>=0.15.3->lexicalrichness) (8.2.1)\n",
            "Requirement already satisfied: joblib in /usr/local/lib/python3.12/dist-packages (from nltk>=3.9->textblob>=0.15.3->lexicalrichness) (1.5.2)\n",
            "Requirement already satisfied: regex>=2021.8.3 in /usr/local/lib/python3.12/dist-packages (from nltk>=3.9->textblob>=0.15.3->lexicalrichness) (2024.11.6)\n",
            "Requirement already satisfied: tqdm in /usr/local/lib/python3.12/dist-packages (from nltk>=3.9->textblob>=0.15.3->lexicalrichness) (4.67.1)\n",
            "Requirement already satisfied: six>=1.5 in /usr/local/lib/python3.12/dist-packages (from python-dateutil>=2.7->matplotlib->lexicalrichness) (1.17.0)\n",
            "Building wheels for collected packages: lexicalrichness\n",
            "  Building wheel for lexicalrichness (setup.py) ... \u001b[?25l\u001b[?25hdone\n",
            "  Created wheel for lexicalrichness: filename=lexicalrichness-0.5.1-py3-none-any.whl size=15418 sha256=0fcd808873bef8e238ad0371cc8f67b6730c288a9d5cff08994b9f401020f351\n",
            "  Stored in directory: /root/.cache/pip/wheels/eb/40/d0/053edb84485f223effdbf0f91fc2b6ec6fc6cf2230aadca09a\n",
            "Successfully built lexicalrichness\n",
            "Installing collected packages: lexicalrichness\n",
            "Successfully installed lexicalrichness-0.5.1\n"
          ]
        }
      ]
    },
    {
      "cell_type": "code",
      "source": [
        "import pandas as pd\n",
        "import spacy\n",
        "from lexicalrichness import LexicalRichness\n",
        "\n",
        "# Файл с текстами\n",
        "input_texts = 'texts-spotlight-8.xlsx'  # с колонками \"Класс\" и \"Текст\"\n",
        "output_file = 'ttr_by_class.xlsx'\n",
        "\n",
        "# Загружаем spaCy (если нужна для токенизации, но lexicalrichness сам работает с текстом)\n",
        "# nlp = spacy.load(\"en_core_web_sm\")\n",
        "\n",
        "# Читаем тексты\n",
        "df = pd.read_excel(input_texts)\n",
        "\n",
        "results = []\n",
        "\n",
        "for klass, group in df.groupby('Класс'):\n",
        "    all_text = \" \".join(str(t) for t in group['Текст'].dropna())\n",
        "    lex = LexicalRichness(all_text)\n",
        "    results.append({'Класс': klass, 'TTR': lex.ttr})\n",
        "\n",
        "df_out = pd.DataFrame(results).sort_values('Класс')\n",
        "df_out.to_excel(output_file, index=False)\n",
        "\n",
        "print(f\"TTR по классам сохранён в {output_file}\")\n",
        "print(df_out)\n"
      ],
      "metadata": {
        "colab": {
          "base_uri": "https://localhost:8080/"
        },
        "id": "zPeI05-54oXh",
        "outputId": "86b6026c-178a-4c49-f926-334d85e58228"
      },
      "execution_count": null,
      "outputs": [
        {
          "output_type": "stream",
          "name": "stdout",
          "text": [
            "TTR по классам сохранён в ttr_by_class.xlsx\n",
            "   Класс       TTR\n",
            "0      1  0.511521\n",
            "1      2  0.636986\n",
            "2      3  0.496222\n",
            "3      4  0.506173\n",
            "4      5  0.560606\n",
            "5      6  0.580645\n",
            "6      7  0.517857\n",
            "7      8  0.577617\n",
            "8      9  0.565574\n"
          ]
        }
      ]
    },
    {
      "cell_type": "markdown",
      "source": [
        "Сопоставительные штуки"
      ],
      "metadata": {
        "id": "gj-MlgFhHrSj"
      }
    },
    {
      "cell_type": "markdown",
      "source": [
        "В cefr_by_class.xlsx для каждого класса есть слова с их уровнями CEFR — считаем превалирующий уровень (мода по CEFR).\n",
        "\n",
        "В translation_with_similarity.xlsx — есть слова с Levenshtein для каждого класса — считаем среднее Levenshtein по классу.\n",
        "\n",
        "В textstat_results.xlsx — уже есть Flesch Reading Ease, Кол-во слов, Кол-во предложений — считаем средние Flesch Reading Ease и суммы по словам/предложениям (если их несколько строк на класс).\n",
        "\n",
        "В ttr_by_class.xlsx — есть TTR по классам — считаем среднее TTR.\n",
        "\n"
      ],
      "metadata": {
        "id": "gtwcXKcv7VXT"
      }
    },
    {
      "cell_type": "code",
      "source": [
        "import pandas as pd\n",
        "\n",
        "# Загружаем cefr_by_class.xlsx и вычисляем превалирующий уровень CEFR\n",
        "df_cefr = pd.read_excel('cefr_by_class.xlsx')\n",
        "\n",
        "# Список уровней CEFR\n",
        "cefr_levels = ['A1', 'A2', 'B1', 'B2', 'C1', 'C2', 'unknown']\n",
        "\n",
        "def get_dominant_cefr(row):\n",
        "    counts = {level: row[level] for level in cefr_levels}\n",
        "    dominant_level = max(counts, key=counts.get)\n",
        "    return dominant_level\n",
        "\n",
        "df_cefr['CEFR'] = df_cefr.apply(get_dominant_cefr, axis=1)\n",
        "df_cefr = df_cefr[['Класс', 'CEFR']]\n",
        "\n",
        "# Загружаем translation_with_similarity.xlsx и считаем среднее similarity по классу\n",
        "df_lev = pd.read_excel('translation_with_similarity.xlsx')\n",
        "lev_mean = df_lev.groupby('Класс')['similarity'].mean().reset_index(name='Levenshtein')\n",
        "\n",
        "#Загружаем textstat_results.xlsx и агрегируем\n",
        "df_textstat = pd.read_excel('textstat_results-6.xlsx')\n",
        "\n",
        "# Здесь названия колонок согласно твоему примеру\n",
        "# Для \"Кол-во слов\" возьмём 'Total words'\n",
        "# Для \"Кол-во предложений\" возьмём 'Total sentences'\n",
        "flesch_agg = df_textstat.groupby('Класс').agg({\n",
        "    'Flesch Reading Ease': 'mean',\n",
        "    'Total words': 'sum',\n",
        "    'Total sentences': 'sum'\n",
        "}).reset_index()\n",
        "\n",
        "# Загружаем ttr_by_class.xlsx и считаем среднее TTR\n",
        "df_ttr = pd.read_excel('ttr_by_class.xlsx')\n",
        "ttr_mean = df_ttr.groupby('Класс')['TTR'].mean().reset_index()\n",
        "\n",
        "# Объединяем все\n",
        "df_all = df_cefr.merge(lev_mean, on='Класс', how='outer')\n",
        "df_all = df_all.merge(flesch_agg, on='Класс', how='outer')\n",
        "df_all = df_all.merge(ttr_mean, on='Класс', how='outer')\n",
        "\n",
        "#Переименовываем колонки для финала\n",
        "df_all.rename(columns={\n",
        "    'Total words': 'Кол-во слов',\n",
        "    'Total sentences': 'Кол-во предложений'\n",
        "}, inplace=True)\n",
        "\n",
        "#Сортируем по классу\n",
        "df_all = df_all.sort_values('Класс')\n",
        "\n",
        "# Сохраняем итоговый файл\n",
        "df_all.to_excel('lexical_metrics_final.xlsx', index=False)\n",
        "print(\"Объединённый файл сохранён: lexical_metrics_final.xlsx\")\n",
        "\n",
        "# Просмотр итоговой таблицы\n",
        "print(df_all)\n"
      ],
      "metadata": {
        "colab": {
          "base_uri": "https://localhost:8080/"
        },
        "id": "Yfk2hubPHtS0",
        "outputId": "0f90c3aa-b173-4a87-f343-07b9913adbf8"
      },
      "execution_count": null,
      "outputs": [
        {
          "output_type": "stream",
          "name": "stdout",
          "text": [
            "Объединённый файл сохранён: lexical_metrics_final.xlsx\n",
            "   Класс CEFR  Levenshtein  Flesch Reading Ease  Кол-во слов  \\\n",
            "0      1   A1     0.265616            79.212857          210   \n",
            "1      2   A1     0.230255            82.833987          145   \n",
            "2      3   A1     0.335800            72.689490          392   \n",
            "3      4   A1     0.372053            66.005714          252   \n",
            "4      5   A1     0.374713            51.774569          261   \n",
            "5      6   A1     0.268056            68.703164          217   \n",
            "6      7   A1     0.299844            68.420526          285   \n",
            "7      8   A1     0.333122            60.788488          286   \n",
            "8      9   A1     0.308713            70.519619          246   \n",
            "\n",
            "   Кол-во предложений       TTR  \n",
            "0                  14  0.511521  \n",
            "1                   8  0.636986  \n",
            "2                  29  0.496222  \n",
            "3                  12  0.506173  \n",
            "4                  14  0.560606  \n",
            "5                  16  0.580645  \n",
            "6                  19  0.517857  \n",
            "7                  17  0.577617  \n",
            "8                  16  0.565574  \n"
          ]
        }
      ]
    },
    {
      "cell_type": "code",
      "source": [
        "import matplotlib.pyplot as plt\n",
        "import seaborn as sns\n",
        "import numpy as np\n",
        "\n",
        "sns.set(style=\"whitegrid\", font=\"DejaVu Sans\")\n",
        "\n",
        "#Столбчатая диаграмма Flesch Reading Ease с градиентом\n",
        "plt.figure(figsize=(8,5))\n",
        "\n",
        "# Создаем градиент цветов: чем ниже FRE, тем темнее\n",
        "fre_values = df_all['Flesch Reading Ease']\n",
        "norm = (fre_values.max() - fre_values) / (fre_values.max() - fre_values.min())  # нормируем для градиента 0-1\n",
        "colors = sns.light_palette(\"red\", n_colors=len(fre_values), reverse=False)\n",
        "# Можно подставить цвета согласно нормированным значениям\n",
        "colors = [sns.light_palette(\"purple\", as_cmap=True)(v) for v in norm]\n",
        "\n",
        "sns.barplot(x='Класс', y='Flesch Reading Ease', data=df_all, palette=colors)\n",
        "plt.title('Flesch Reading Ease Spotlight 8')\n",
        "plt.ylabel('Flesch Reading Ease')\n",
        "plt.xlabel('Номер текста')\n",
        "plt.show()\n"
      ],
      "metadata": {
        "colab": {
          "base_uri": "https://localhost:8080/",
          "height": 607
        },
        "id": "LFoIgUCh9ZFM",
        "outputId": "ac0e12d9-3b21-41db-9966-a401398ceca7"
      },
      "execution_count": null,
      "outputs": [
        {
          "output_type": "stream",
          "name": "stderr",
          "text": [
            "/tmp/ipython-input-1694527184.py:17: FutureWarning: \n",
            "\n",
            "Passing `palette` without assigning `hue` is deprecated and will be removed in v0.14.0. Assign the `x` variable to `hue` and set `legend=False` for the same effect.\n",
            "\n",
            "  sns.barplot(x='Класс', y='Flesch Reading Ease', data=df_all, palette=colors)\n"
          ]
        },
        {
          "output_type": "display_data",
          "data": {
            "text/plain": [
              "<Figure size 800x500 with 1 Axes>"
            ],
            "image/png": "[encoded data removed]"
          },
          "metadata": {}
        }
      ]
    },
    {
      "cell_type": "code",
      "source": [
        "import pandas as pd\n",
        "import matplotlib.pyplot as plt\n",
        "import seaborn as sns\n",
        "\n",
        "# Загрузка данных\n",
        "df = pd.read_csv('vocab.csv', encoding='utf-16')\n",
        "level_counts = df.groupby('level')['count'].sum().sort_index()\n",
        "\n",
        "# Цвета через seaborn\n",
        "palette = sns.color_palette(\"Set2\", n_colors=len(level_counts))\n",
        "\n",
        "# Круговая диаграмма с вынесенными подписями\n",
        "plt.figure(figsize=(8,8))\n",
        "plt.pie(\n",
        "    level_counts,\n",
        "    labels=None,  # убираем подписи на слайсах\n",
        "    startangle=140,\n",
        "    colors=palette\n",
        ")\n",
        "plt.legend(\n",
        "    labels=[f\"{lvl}: {cnt} ({cnt/sum(level_counts)*100:.1f}%)\"\n",
        "            for lvl, cnt in zip(level_counts.index, level_counts)],\n",
        "    loc='center left',\n",
        "    bbox_to_anchor=(1, 0.5)\n",
        ")\n",
        "plt.axis('equal')\n",
        "plt.show()\n",
        "\n"
      ],
      "metadata": {
        "colab": {
          "base_uri": "https://localhost:8080/",
          "height": 389
        },
        "id": "ZO_fT13rSJdo",
        "outputId": "2ba853f8-1848-47e4-ccda-9c9bb6575870"
      },
      "execution_count": null,
      "outputs": [
        {
          "output_type": "error",
          "ename": "FileNotFoundError",
          "evalue": "[Errno 2] No such file or directory: 'vocab.csv'",
          "traceback": [
            "\u001b[0;31m---------------------------------------------------------------------------\u001b[0m",
            "\u001b[0;31mFileNotFoundError\u001b[0m                         Traceback (most recent call last)",
            "\u001b[0;32m/tmp/ipython-input-4122512646.py\u001b[0m in \u001b[0;36m<cell line: 0>\u001b[0;34m()\u001b[0m\n\u001b[1;32m      4\u001b[0m \u001b[0;34m\u001b[0m\u001b[0m\n\u001b[1;32m      5\u001b[0m \u001b[0;31m# Загрузка данных\u001b[0m\u001b[0;34m\u001b[0m\u001b[0;34m\u001b[0m\u001b[0m\n\u001b[0;32m----> 6\u001b[0;31m \u001b[0mdf\u001b[0m \u001b[0;34m=\u001b[0m \u001b[0mpd\u001b[0m\u001b[0;34m.\u001b[0m\u001b[0mread_csv\u001b[0m\u001b[0;34m(\u001b[0m\u001b[0;34m'vocab.csv'\u001b[0m\u001b[0;34m,\u001b[0m \u001b[0mencoding\u001b[0m\u001b[0;34m=\u001b[0m\u001b[0;34m'utf-16'\u001b[0m\u001b[0;34m)\u001b[0m\u001b[0;34m\u001b[0m\u001b[0;34m\u001b[0m\u001b[0m\n\u001b[0m\u001b[1;32m      7\u001b[0m \u001b[0mlevel_counts\u001b[0m \u001b[0;34m=\u001b[0m \u001b[0mdf\u001b[0m\u001b[0;34m.\u001b[0m\u001b[0mgroupby\u001b[0m\u001b[0;34m(\u001b[0m\u001b[0;34m'level'\u001b[0m\u001b[0;34m)\u001b[0m\u001b[0;34m[\u001b[0m\u001b[0;34m'count'\u001b[0m\u001b[0;34m]\u001b[0m\u001b[0;34m.\u001b[0m\u001b[0msum\u001b[0m\u001b[0;34m(\u001b[0m\u001b[0;34m)\u001b[0m\u001b[0;34m.\u001b[0m\u001b[0msort_index\u001b[0m\u001b[0;34m(\u001b[0m\u001b[0;34m)\u001b[0m\u001b[0;34m\u001b[0m\u001b[0;34m\u001b[0m\u001b[0m\n\u001b[1;32m      8\u001b[0m \u001b[0;34m\u001b[0m\u001b[0m\n",
            "\u001b[0;32m/usr/local/lib/python3.12/dist-packages/pandas/io/parsers/readers.py\u001b[0m in \u001b[0;36mread_csv\u001b[0;34m(filepath_or_buffer, sep, delimiter, header, names, index_col, usecols, dtype, engine, converters, true_values, false_values, skipinitialspace, skiprows, skipfooter, nrows, na_values, keep_default_na, na_filter, verbose, skip_blank_lines, parse_dates, infer_datetime_format, keep_date_col, date_parser, date_format, dayfirst, cache_dates, iterator, chunksize, compression, thousands, decimal, lineterminator, quotechar, quoting, doublequote, escapechar, comment, encoding, encoding_errors, dialect, on_bad_lines, delim_whitespace, low_memory, memory_map, float_precision, storage_options, dtype_backend)\u001b[0m\n\u001b[1;32m   1024\u001b[0m     \u001b[0mkwds\u001b[0m\u001b[0;34m.\u001b[0m\u001b[0mupdate\u001b[0m\u001b[0;34m(\u001b[0m\u001b[0mkwds_defaults\u001b[0m\u001b[0;34m)\u001b[0m\u001b[0;34m\u001b[0m\u001b[0;34m\u001b[0m\u001b[0m\n\u001b[1;32m   1025\u001b[0m \u001b[0;34m\u001b[0m\u001b[0m\n\u001b[0;32m-> 1026\u001b[0;31m     \u001b[0;32mreturn\u001b[0m \u001b[0m_read\u001b[0m\u001b[0;34m(\u001b[0m\u001b[0mfilepath_or_buffer\u001b[0m\u001b[0;34m,\u001b[0m \u001b[0mkwds\u001b[0m\u001b[0;34m)\u001b[0m\u001b[0;34m\u001b[0m\u001b[0;34m\u001b[0m\u001b[0m\n\u001b[0m\u001b[1;32m   1027\u001b[0m \u001b[0;34m\u001b[0m\u001b[0m\n\u001b[1;32m   1028\u001b[0m \u001b[0;34m\u001b[0m\u001b[0m\n",
            "\u001b[0;32m/usr/local/lib/python3.12/dist-packages/pandas/io/parsers/readers.py\u001b[0m in \u001b[0;36m_read\u001b[0;34m(filepath_or_buffer, kwds)\u001b[0m\n\u001b[1;32m    618\u001b[0m \u001b[0;34m\u001b[0m\u001b[0m\n\u001b[1;32m    619\u001b[0m     \u001b[0;31m# Create the parser.\u001b[0m\u001b[0;34m\u001b[0m\u001b[0;34m\u001b[0m\u001b[0m\n\u001b[0;32m--> 620\u001b[0;31m     \u001b[0mparser\u001b[0m \u001b[0;34m=\u001b[0m \u001b[0mTextFileReader\u001b[0m\u001b[0;34m(\u001b[0m\u001b[0mfilepath_or_buffer\u001b[0m\u001b[0;34m,\u001b[0m \u001b[0;34m**\u001b[0m\u001b[0mkwds\u001b[0m\u001b[0;34m)\u001b[0m\u001b[0;34m\u001b[0m\u001b[0;34m\u001b[0m\u001b[0m\n\u001b[0m\u001b[1;32m    621\u001b[0m \u001b[0;34m\u001b[0m\u001b[0m\n\u001b[1;32m    622\u001b[0m     \u001b[0;32mif\u001b[0m \u001b[0mchunksize\u001b[0m \u001b[0;32mor\u001b[0m \u001b[0miterator\u001b[0m\u001b[0;34m:\u001b[0m\u001b[0;34m\u001b[0m\u001b[0;34m\u001b[0m\u001b[0m\n",
            "\u001b[0;32m/usr/local/lib/python3.12/dist-packages/pandas/io/parsers/readers.py\u001b[0m in \u001b[0;36m__init__\u001b[0;34m(self, f, engine, **kwds)\u001b[0m\n\u001b[1;32m   1618\u001b[0m \u001b[0;34m\u001b[0m\u001b[0m\n\u001b[1;32m   1619\u001b[0m         \u001b[0mself\u001b[0m\u001b[0;34m.\u001b[0m\u001b[0mhandles\u001b[0m\u001b[0;34m:\u001b[0m \u001b[0mIOHandles\u001b[0m \u001b[0;34m|\u001b[0m \u001b[0;32mNone\u001b[0m \u001b[0;34m=\u001b[0m \u001b[0;32mNone\u001b[0m\u001b[0;34m\u001b[0m\u001b[0;34m\u001b[0m\u001b[0m\n\u001b[0;32m-> 1620\u001b[0;31m         \u001b[0mself\u001b[0m\u001b[0;34m.\u001b[0m\u001b[0m_engine\u001b[0m \u001b[0;34m=\u001b[0m \u001b[0mself\u001b[0m\u001b[0;34m.\u001b[0m\u001b[0m_make_engine\u001b[0m\u001b[0;34m(\u001b[0m\u001b[0mf\u001b[0m\u001b[0;34m,\u001b[0m \u001b[0mself\u001b[0m\u001b[0;34m.\u001b[0m\u001b[0mengine\u001b[0m\u001b[0;34m)\u001b[0m\u001b[0;34m\u001b[0m\u001b[0;34m\u001b[0m\u001b[0m\n\u001b[0m\u001b[1;32m   1621\u001b[0m \u001b[0;34m\u001b[0m\u001b[0m\n\u001b[1;32m   1622\u001b[0m     \u001b[0;32mdef\u001b[0m \u001b[0mclose\u001b[0m\u001b[0;34m(\u001b[0m\u001b[0mself\u001b[0m\u001b[0;34m)\u001b[0m \u001b[0;34m->\u001b[0m \u001b[0;32mNone\u001b[0m\u001b[0;34m:\u001b[0m\u001b[0;34m\u001b[0m\u001b[0;34m\u001b[0m\u001b[0m\n",
            "\u001b[0;32m/usr/local/lib/python3.12/dist-packages/pandas/io/parsers/readers.py\u001b[0m in \u001b[0;36m_make_engine\u001b[0;34m(self, f, engine)\u001b[0m\n\u001b[1;32m   1878\u001b[0m                 \u001b[0;32mif\u001b[0m \u001b[0;34m\"b\"\u001b[0m \u001b[0;32mnot\u001b[0m \u001b[0;32min\u001b[0m \u001b[0mmode\u001b[0m\u001b[0;34m:\u001b[0m\u001b[0;34m\u001b[0m\u001b[0;34m\u001b[0m\u001b[0m\n\u001b[1;32m   1879\u001b[0m                     \u001b[0mmode\u001b[0m \u001b[0;34m+=\u001b[0m \u001b[0;34m\"b\"\u001b[0m\u001b[0;34m\u001b[0m\u001b[0;34m\u001b[0m\u001b[0m\n\u001b[0;32m-> 1880\u001b[0;31m             self.handles = get_handle(\n\u001b[0m\u001b[1;32m   1881\u001b[0m                 \u001b[0mf\u001b[0m\u001b[0;34m,\u001b[0m\u001b[0;34m\u001b[0m\u001b[0;34m\u001b[0m\u001b[0m\n\u001b[1;32m   1882\u001b[0m                 \u001b[0mmode\u001b[0m\u001b[0;34m,\u001b[0m\u001b[0;34m\u001b[0m\u001b[0;34m\u001b[0m\u001b[0m\n",
            "\u001b[0;32m/usr/local/lib/python3.12/dist-packages/pandas/io/common.py\u001b[0m in \u001b[0;36mget_handle\u001b[0;34m(path_or_buf, mode, encoding, compression, memory_map, is_text, errors, storage_options)\u001b[0m\n\u001b[1;32m    871\u001b[0m         \u001b[0;32mif\u001b[0m \u001b[0mioargs\u001b[0m\u001b[0;34m.\u001b[0m\u001b[0mencoding\u001b[0m \u001b[0;32mand\u001b[0m \u001b[0;34m\"b\"\u001b[0m \u001b[0;32mnot\u001b[0m \u001b[0;32min\u001b[0m \u001b[0mioargs\u001b[0m\u001b[0;34m.\u001b[0m\u001b[0mmode\u001b[0m\u001b[0;34m:\u001b[0m\u001b[0;34m\u001b[0m\u001b[0;34m\u001b[0m\u001b[0m\n\u001b[1;32m    872\u001b[0m             \u001b[0;31m# Encoding\u001b[0m\u001b[0;34m\u001b[0m\u001b[0;34m\u001b[0m\u001b[0m\n\u001b[0;32m--> 873\u001b[0;31m             handle = open(\n\u001b[0m\u001b[1;32m    874\u001b[0m                 \u001b[0mhandle\u001b[0m\u001b[0;34m,\u001b[0m\u001b[0;34m\u001b[0m\u001b[0;34m\u001b[0m\u001b[0m\n\u001b[1;32m    875\u001b[0m                 \u001b[0mioargs\u001b[0m\u001b[0;34m.\u001b[0m\u001b[0mmode\u001b[0m\u001b[0;34m,\u001b[0m\u001b[0;34m\u001b[0m\u001b[0;34m\u001b[0m\u001b[0m\n",
            "\u001b[0;31mFileNotFoundError\u001b[0m: [Errno 2] No such file or directory: 'vocab.csv'"
          ]
        }
      ]
    },
    {
      "cell_type": "code",
      "source": [
        "import pandas as pd\n",
        "import matplotlib.pyplot as plt\n",
        "import numpy as np\n",
        "\n",
        "#  Данные\n",
        "data = {\n",
        "    \"Text\": [f\"Text {i}\" for i in range(1, 10)],\n",
        "    \"Total words\": [210, 145, 392, 252, 261, 217, 285, 286, 246],\n",
        "    \"Total sentences\": [14, 8, 29, 12, 14, 16, 19, 17, 16]\n",
        "}\n",
        "\n",
        "df = pd.DataFrame(data)\n",
        "\n",
        "# Столбчатая диаграмма\n",
        "x = np.arange(len(df[\"Text\"]))  # позиции для текстов\n",
        "width = 0.35  # ширина столбиков\n",
        "\n",
        "plt.figure(figsize=(10, 6))\n",
        "plt.bar(x - width/2, df[\"Total words\"], width, label=\"Количество слов\", color=\"tab:blue\", alpha=0.7)\n",
        "plt.bar(x + width/2, df[\"Total sentences\"], width, label=\"Количество предложений\", color=\"tab:orange\", alpha=0.7)\n",
        "\n",
        "plt.title(\"Сравнение слов и предложений в текстах\")\n",
        "plt.xlabel(\"Тексты\")\n",
        "plt.ylabel(\"Значения\")\n",
        "plt.xticks(x, df[\"Text\"])\n",
        "plt.legend()\n",
        "plt.grid(True, linestyle=\"--\", alpha=0.5, axis=\"y\")\n",
        "plt.tight_layout()\n",
        "plt.show()\n"
      ],
      "metadata": {
        "colab": {
          "base_uri": "https://localhost:8080/",
          "height": 453
        },
        "id": "0lopVlOSbJHy",
        "outputId": "9d6bc817-959c-48e2-8911-68e96e625745"
      },
      "execution_count": null,
      "outputs": [
        {
          "output_type": "display_data",
          "data": {
            "text/plain": [
              "<Figure size 1000x600 with 1 Axes>"
            ],
            "image/png": "[encoded data removed]"
          },
          "metadata": {}
        }
      ]
    },
    {
      "cell_type": "code",
      "source": [
        "import pandas as pd\n",
        "\n",
        "# Данные\n",
        "data = {\n",
        "    'Text1': {'A1':79, 'A2':9, 'B1':3, 'B2':4, 'C1':1, 'C2':1, 'Off-List':3},\n",
        "    'Text2': {'A1':76, 'A2':12, 'B1':10, 'B2':1, 'C1':0, 'C2':0, 'Off-List':1},\n",
        "    'Text3': {'A1':64, 'A2':14, 'B1':8, 'B2':2, 'C1':1, 'C2':1, 'Off-List':11},\n",
        "    'Text4': {'A1':58, 'A2':12, 'B1':7, 'B2':4, 'C1':0, 'C2':2, 'Off-List':17},\n",
        "    'Text5': {'A1':62, 'A2':12, 'B1':9, 'B2':8, 'C1':2, 'C2':1, 'Off-List':6},\n",
        "    'Text6': {'A1':69, 'A2':6, 'B1':10, 'B2':4, 'C1':1, 'C2':2, 'Off-List':8},\n",
        "    'Text7': {'A1':62, 'A2':14, 'B1':7, 'B2':2, 'C1':2, 'C2':1, 'Off-List':11},\n",
        "    'Text8': {'A1':67, 'A2':11, 'B1':7, 'B2':2, 'C1':1, 'C2':1, 'Off-List':12},\n",
        "    'Text9': {'A1':66, 'A2':13, 'B1':12, 'B2':2, 'C1':0, 'C2':1, 'Off-List':6},\n",
        "}\n",
        "\n",
        "# Создаем DataFrame\n",
        "df = pd.DataFrame(data).T\n",
        "df.index.name = 'Text'\n",
        "df_percent = df.round(1)\n",
        "\n",
        "# Сохраняем в Excel\n",
        "df_percent.to_excel('CEFR_distribution.xlsx', sheet_name='CEFR Levels')\n",
        "\n",
        "print(\"Таблица сохранена в файл 'CEFR_distribution.xlsx'.\")\n"
      ],
      "metadata": {
        "colab": {
          "base_uri": "https://localhost:8080/"
        },
        "id": "ea9NVlQnbm5H",
        "outputId": "83e91648-c936-4b0e-d71d-97709f55ab93"
      },
      "execution_count": null,
      "outputs": [
        {
          "output_type": "stream",
          "name": "stdout",
          "text": [
            "Таблица сохранена в файл 'CEFR_distribution.xlsx'.\n"
          ]
        }
      ]
    }
  ]
}